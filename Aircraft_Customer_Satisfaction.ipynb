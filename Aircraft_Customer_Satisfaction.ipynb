{
 "cells": [
  {
   "cell_type": "code",
   "execution_count": 1,
   "id": "55a643cf",
   "metadata": {},
   "outputs": [
    {
     "name": "stderr",
     "output_type": "stream",
     "text": [
      "\n",
      "Bad key text.latex.preview in file C:\\Users\\maroj\\Anaconda3\\envs\\mytfenv\\lib\\site-packages\\matplotlib\\mpl-data\\stylelib\\_classic_test.mplstyle, line 123 ('text.latex.preview : False')\n",
      "You probably need to get an updated matplotlibrc file from\n",
      "https://github.com/matplotlib/matplotlib/blob/v3.5.3/matplotlibrc.template\n",
      "or from the matplotlib source distribution\n",
      "\n",
      "Bad key mathtext.fallback_to_cm in file C:\\Users\\maroj\\Anaconda3\\envs\\mytfenv\\lib\\site-packages\\matplotlib\\mpl-data\\stylelib\\_classic_test.mplstyle, line 155 ('mathtext.fallback_to_cm : True  # When True, use symbols from the Computer Modern')\n",
      "You probably need to get an updated matplotlibrc file from\n",
      "https://github.com/matplotlib/matplotlib/blob/v3.5.3/matplotlibrc.template\n",
      "or from the matplotlib source distribution\n",
      "\n",
      "Bad key savefig.jpeg_quality in file C:\\Users\\maroj\\Anaconda3\\envs\\mytfenv\\lib\\site-packages\\matplotlib\\mpl-data\\stylelib\\_classic_test.mplstyle, line 418 ('savefig.jpeg_quality: 95       # when a jpeg is saved, the default quality parameter.')\n",
      "You probably need to get an updated matplotlibrc file from\n",
      "https://github.com/matplotlib/matplotlib/blob/v3.5.3/matplotlibrc.template\n",
      "or from the matplotlib source distribution\n",
      "\n",
      "Bad key keymap.all_axes in file C:\\Users\\maroj\\Anaconda3\\envs\\mytfenv\\lib\\site-packages\\matplotlib\\mpl-data\\stylelib\\_classic_test.mplstyle, line 466 ('keymap.all_axes : a                 # enable all axes')\n",
      "You probably need to get an updated matplotlibrc file from\n",
      "https://github.com/matplotlib/matplotlib/blob/v3.5.3/matplotlibrc.template\n",
      "or from the matplotlib source distribution\n",
      "\n",
      "Bad key animation.avconv_path in file C:\\Users\\maroj\\Anaconda3\\envs\\mytfenv\\lib\\site-packages\\matplotlib\\mpl-data\\stylelib\\_classic_test.mplstyle, line 477 ('animation.avconv_path: avconv     # Path to avconv binary. Without full path')\n",
      "You probably need to get an updated matplotlibrc file from\n",
      "https://github.com/matplotlib/matplotlib/blob/v3.5.3/matplotlibrc.template\n",
      "or from the matplotlib source distribution\n",
      "\n",
      "Bad key animation.avconv_args in file C:\\Users\\maroj\\Anaconda3\\envs\\mytfenv\\lib\\site-packages\\matplotlib\\mpl-data\\stylelib\\_classic_test.mplstyle, line 479 ('animation.avconv_args:            # Additional arguments to pass to avconv')\n",
      "You probably need to get an updated matplotlibrc file from\n",
      "https://github.com/matplotlib/matplotlib/blob/v3.5.3/matplotlibrc.template\n",
      "or from the matplotlib source distribution\n"
     ]
    }
   ],
   "source": [
    "# Importing Libraries\n",
    "import pandas as pd\n",
    "import numpy as np\n",
    "import warnings\n",
    "import seaborn as sns\n",
    "warnings.filterwarnings(action='ignore')\n",
    "import matplotlib.pyplot as plt\n",
    "%matplotlib inline"
   ]
  },
  {
   "cell_type": "code",
   "execution_count": 2,
   "id": "04921642",
   "metadata": {},
   "outputs": [],
   "source": [
    "# Reading the dataset\n",
    "train = pd.read_csv('train.csv')"
   ]
  },
  {
   "cell_type": "code",
   "execution_count": 3,
   "id": "92a66f6f",
   "metadata": {},
   "outputs": [
    {
     "data": {
      "text/plain": [
       "(103904, 24)"
      ]
     },
     "execution_count": 3,
     "metadata": {},
     "output_type": "execute_result"
    }
   ],
   "source": [
    "# Checking shape of the dataset\n",
    "train.shape"
   ]
  },
  {
   "cell_type": "code",
   "execution_count": 4,
   "id": "fb66937c",
   "metadata": {},
   "outputs": [
    {
     "data": {
      "text/plain": [
       "id                                     0\n",
       "Gender                                 0\n",
       "Customer Type                          0\n",
       "Age                                    0\n",
       "Type of Travel                         0\n",
       "Class                                  0\n",
       "Flight Distance                        0\n",
       "Inflight wifi service                  0\n",
       "Departure/Arrival time convenient      0\n",
       "Ease of Online booking                 0\n",
       "Gate location                          0\n",
       "Food and drink                         0\n",
       "Online boarding                        0\n",
       "Seat comfort                           0\n",
       "Inflight entertainment                 0\n",
       "On-board service                       0\n",
       "Leg room service                       0\n",
       "Baggage handling                       0\n",
       "Checkin service                        0\n",
       "Inflight service                       0\n",
       "Cleanliness                            0\n",
       "Departure Delay in Minutes             0\n",
       "Arrival Delay in Minutes             310\n",
       "satisfaction                           0\n",
       "dtype: int64"
      ]
     },
     "execution_count": 4,
     "metadata": {},
     "output_type": "execute_result"
    }
   ],
   "source": [
    "# Checking for missing values\n",
    "train.isna().sum()"
   ]
  },
  {
   "cell_type": "code",
   "execution_count": 5,
   "id": "307db124",
   "metadata": {},
   "outputs": [],
   "source": [
    "# Replacing neutral or dissatisfied with dissatisfied\n",
    "train['satisfaction'] = train['satisfaction'].replace({\n",
    "    'neutral or dissatisfied': 'dissatisfied'\n",
    "})"
   ]
  },
  {
   "cell_type": "code",
   "execution_count": 6,
   "id": "a2d3ccde",
   "metadata": {
    "scrolled": false
   },
   "outputs": [
    {
     "data": {
      "text/plain": [
       "id                                     int64\n",
       "Gender                                object\n",
       "Customer Type                         object\n",
       "Age                                    int64\n",
       "Type of Travel                        object\n",
       "Class                                 object\n",
       "Flight Distance                        int64\n",
       "Inflight wifi service                  int64\n",
       "Departure/Arrival time convenient      int64\n",
       "Ease of Online booking                 int64\n",
       "Gate location                          int64\n",
       "Food and drink                         int64\n",
       "Online boarding                        int64\n",
       "Seat comfort                           int64\n",
       "Inflight entertainment                 int64\n",
       "On-board service                       int64\n",
       "Leg room service                       int64\n",
       "Baggage handling                       int64\n",
       "Checkin service                        int64\n",
       "Inflight service                       int64\n",
       "Cleanliness                            int64\n",
       "Departure Delay in Minutes             int64\n",
       "Arrival Delay in Minutes             float64\n",
       "satisfaction                          object\n",
       "dtype: object"
      ]
     },
     "execution_count": 6,
     "metadata": {},
     "output_type": "execute_result"
    }
   ],
   "source": [
    "# Chekcing data types\n",
    "train.dtypes"
   ]
  },
  {
   "cell_type": "markdown",
   "id": "22e179b4",
   "metadata": {},
   "source": [
    "# Univariate Analysis"
   ]
  },
  {
   "cell_type": "markdown",
   "id": "fee0ff17",
   "metadata": {},
   "source": [
    "## Categorical Variables"
   ]
  },
  {
   "cell_type": "markdown",
   "id": "e931997d",
   "metadata": {},
   "source": [
    "### Gender"
   ]
  },
  {
   "cell_type": "code",
   "execution_count": 7,
   "id": "fa55c687",
   "metadata": {},
   "outputs": [
    {
     "data": {
      "text/plain": [
       "Female    50.745881\n",
       "Male      49.254119\n",
       "Name: Gender, dtype: float64"
      ]
     },
     "execution_count": 7,
     "metadata": {},
     "output_type": "execute_result"
    }
   ],
   "source": [
    "# Checking the dsitribution of variables\n",
    "train['Gender'].value_counts(normalize=True)*100"
   ]
  },
  {
   "cell_type": "code",
   "execution_count": 8,
   "id": "6cc78cad",
   "metadata": {},
   "outputs": [
    {
     "data": {
      "text/plain": [
       "<AxesSubplot:xlabel='Gender', ylabel='count'>"
      ]
     },
     "execution_count": 8,
     "metadata": {},
     "output_type": "execute_result"
    },
    {
     "data": {
      "image/png": "[encoded data removed]",
      "text/plain": [
       "<Figure size 432x288 with 1 Axes>"
      ]
     },
     "metadata": {
      "needs_background": "light"
     },
     "output_type": "display_data"
    }
   ],
   "source": [
    "# Plotting countplot\n",
    "sns.countplot(data=train, x='Gender')"
   ]
  },
  {
   "cell_type": "markdown",
   "id": "f37cdefe",
   "metadata": {},
   "source": [
    "### Customer Type"
   ]
  },
  {
   "cell_type": "code",
   "execution_count": 9,
   "id": "e3703186",
   "metadata": {},
   "outputs": [
    {
     "data": {
      "text/plain": [
       "Loyal Customer       81.732176\n",
       "disloyal Customer    18.267824\n",
       "Name: Customer Type, dtype: float64"
      ]
     },
     "execution_count": 9,
     "metadata": {},
     "output_type": "execute_result"
    }
   ],
   "source": [
    "# Checking the dsitribution of variables\n",
    "train['Customer Type'].value_counts(normalize=True)*100"
   ]
  },
  {
   "cell_type": "code",
   "execution_count": 10,
   "id": "74e71cd6",
   "metadata": {},
   "outputs": [
    {
     "data": {
      "text/plain": [
       "<AxesSubplot:xlabel='Customer Type', ylabel='count'>"
      ]
     },
     "execution_count": 10,
     "metadata": {},
     "output_type": "execute_result"
    },
    {
     "data": {
      "image/png": "[encoded data removed]",
      "text/plain": [
       "<Figure size 432x288 with 1 Axes>"
      ]
     },
     "metadata": {
      "needs_background": "light"
     },
     "output_type": "display_data"
    }
   ],
   "source": [
    "# Plotting countplot\n",
    "sns.countplot(data=train, x='Customer Type')"
   ]
  },
  {
   "cell_type": "markdown",
   "id": "15e6f97c",
   "metadata": {},
   "source": [
    "### Type of Travel"
   ]
  },
  {
   "cell_type": "code",
   "execution_count": 11,
   "id": "39f5992e",
   "metadata": {},
   "outputs": [
    {
     "data": {
      "text/plain": [
       "Business travel    68.962696\n",
       "Personal Travel    31.037304\n",
       "Name: Type of Travel, dtype: float64"
      ]
     },
     "execution_count": 11,
     "metadata": {},
     "output_type": "execute_result"
    }
   ],
   "source": [
    "# Checking the dsitribution of variables\n",
    "train['Type of Travel'].value_counts(normalize=True)*100"
   ]
  },
  {
   "cell_type": "code",
   "execution_count": 12,
   "id": "0ab9e28b",
   "metadata": {},
   "outputs": [
    {
     "data": {
      "text/plain": [
       "<AxesSubplot:xlabel='Type of Travel', ylabel='count'>"
      ]
     },
     "execution_count": 12,
     "metadata": {},
     "output_type": "execute_result"
    },
    {
     "data": {
      "image/png": "[encoded data removed]",
      "text/plain": [
       "<Figure size 432x288 with 1 Axes>"
      ]
     },
     "metadata": {
      "needs_background": "light"
     },
     "output_type": "display_data"
    }
   ],
   "source": [
    "# Plotting countplot\n",
    "sns.countplot(data=train, x='Type of Travel')"
   ]
  },
  {
   "cell_type": "markdown",
   "id": "9d4aa919",
   "metadata": {},
   "source": [
    "### Class"
   ]
  },
  {
   "cell_type": "code",
   "execution_count": 13,
   "id": "90735138",
   "metadata": {},
   "outputs": [
    {
     "data": {
      "text/plain": [
       "Business    47.798930\n",
       "Eco         44.988643\n",
       "Eco Plus     7.212427\n",
       "Name: Class, dtype: float64"
      ]
     },
     "execution_count": 13,
     "metadata": {},
     "output_type": "execute_result"
    }
   ],
   "source": [
    "# Checking the dsitribution of variables\n",
    "train['Class'].value_counts(normalize=True)*100"
   ]
  },
  {
   "cell_type": "code",
   "execution_count": 14,
   "id": "2f5bfcce",
   "metadata": {},
   "outputs": [
    {
     "data": {
      "text/plain": [
       "<AxesSubplot:xlabel='Class', ylabel='count'>"
      ]
     },
     "execution_count": 14,
     "metadata": {},
     "output_type": "execute_result"
    },
    {
     "data": {
      "image/png": "[encoded data removed]",
      "text/plain": [
       "<Figure size 432x288 with 1 Axes>"
      ]
     },
     "metadata": {
      "needs_background": "light"
     },
     "output_type": "display_data"
    }
   ],
   "source": [
    "# Plotting countplot\n",
    "sns.countplot(data=train, x='Class')"
   ]
  },
  {
   "cell_type": "markdown",
   "id": "f83009cf",
   "metadata": {},
   "source": [
    "### Inflight wifi service"
   ]
  },
  {
   "cell_type": "code",
   "execution_count": 15,
   "id": "a0e1a143",
   "metadata": {},
   "outputs": [
    {
     "data": {
      "text/plain": [
       "3    24.896058\n",
       "2    24.859486\n",
       "4    19.050277\n",
       "1    17.169695\n",
       "5    11.038074\n",
       "0     2.986411\n",
       "Name: Inflight wifi service, dtype: float64"
      ]
     },
     "execution_count": 15,
     "metadata": {},
     "output_type": "execute_result"
    }
   ],
   "source": [
    "# Checking the dsitribution of variables\n",
    "train['Inflight wifi service'].value_counts(normalize=True)*100"
   ]
  },
  {
   "cell_type": "code",
   "execution_count": 16,
   "id": "7f7fd82a",
   "metadata": {},
   "outputs": [
    {
     "data": {
      "text/plain": [
       "<AxesSubplot:xlabel='Inflight wifi service', ylabel='count'>"
      ]
     },
     "execution_count": 16,
     "metadata": {},
     "output_type": "execute_result"
    },
    {
     "data": {
      "image/png": "[encoded data removed]",
      "text/plain": [
       "<Figure size 432x288 with 1 Axes>"
      ]
     },
     "metadata": {
      "needs_background": "light"
     },
     "output_type": "display_data"
    }
   ],
   "source": [
    "# Plotting countplot\n",
    "sns.countplot(data=train, x='Inflight wifi service')"
   ]
  },
  {
   "cell_type": "markdown",
   "id": "d249670c",
   "metadata": {},
   "source": [
    "### Departure/Arrival time convenient"
   ]
  },
  {
   "cell_type": "code",
   "execution_count": 17,
   "id": "c357e476",
   "metadata": {},
   "outputs": [
    {
     "data": {
      "text/plain": [
       "4    24.586156\n",
       "5    21.561249\n",
       "3    17.290961\n",
       "2    16.545080\n",
       "1    14.915691\n",
       "0     5.100862\n",
       "Name: Departure/Arrival time convenient, dtype: float64"
      ]
     },
     "execution_count": 17,
     "metadata": {},
     "output_type": "execute_result"
    }
   ],
   "source": [
    "# Checking the dsitribution of variables\n",
    "train['Departure/Arrival time convenient'].value_counts(normalize=True)*100"
   ]
  },
  {
   "cell_type": "code",
   "execution_count": 18,
   "id": "aef4e408",
   "metadata": {},
   "outputs": [
    {
     "data": {
      "text/plain": [
       "<AxesSubplot:xlabel='Departure/Arrival time convenient', ylabel='count'>"
      ]
     },
     "execution_count": 18,
     "metadata": {},
     "output_type": "execute_result"
    },
    {
     "data": {
      "image/png": "[encoded data removed]",
      "text/plain": [
       "<Figure size 432x288 with 1 Axes>"
      ]
     },
     "metadata": {
      "needs_background": "light"
     },
     "output_type": "display_data"
    }
   ],
   "source": [
    "# Plotting countplot\n",
    "sns.countplot(data=train, x='Departure/Arrival time convenient')"
   ]
  },
  {
   "cell_type": "markdown",
   "id": "32c5c31e",
   "metadata": {},
   "source": [
    "### Ease of Online booking"
   ]
  },
  {
   "cell_type": "code",
   "execution_count": 19,
   "id": "b4adb00b",
   "metadata": {},
   "outputs": [
    {
     "data": {
      "text/plain": [
       "3    23.530374\n",
       "2    23.118455\n",
       "4    18.835656\n",
       "1    16.866531\n",
       "5    13.330574\n",
       "0     4.318409\n",
       "Name: Ease of Online booking, dtype: float64"
      ]
     },
     "execution_count": 19,
     "metadata": {},
     "output_type": "execute_result"
    }
   ],
   "source": [
    "# Checking the dsitribution of variables\n",
    "train['Ease of Online booking'].value_counts(normalize=True)*100"
   ]
  },
  {
   "cell_type": "code",
   "execution_count": 20,
   "id": "940023f7",
   "metadata": {},
   "outputs": [
    {
     "data": {
      "text/plain": [
       "<AxesSubplot:xlabel='Ease of Online booking', ylabel='count'>"
      ]
     },
     "execution_count": 20,
     "metadata": {},
     "output_type": "execute_result"
    },
    {
     "data": {
      "image/png": "[encoded data removed]",
      "text/plain": [
       "<Figure size 432x288 with 1 Axes>"
      ]
     },
     "metadata": {
      "needs_background": "light"
     },
     "output_type": "display_data"
    }
   ],
   "source": [
    "# Plotting countplot\n",
    "sns.countplot(data=train, x='Ease of Online booking')"
   ]
  },
  {
   "cell_type": "markdown",
   "id": "18474380",
   "metadata": {},
   "source": [
    "### Gate Location"
   ]
  },
  {
   "cell_type": "code",
   "execution_count": 21,
   "id": "adf3c9b4",
   "metadata": {},
   "outputs": [
    {
     "data": {
      "text/plain": [
       "3    27.503272\n",
       "4    23.508238\n",
       "2    18.727864\n",
       "1    16.902140\n",
       "5    13.357522\n",
       "0     0.000962\n",
       "Name: Gate location, dtype: float64"
      ]
     },
     "execution_count": 21,
     "metadata": {},
     "output_type": "execute_result"
    }
   ],
   "source": [
    "# Checking the dsitribution of variables\n",
    "train['Gate location'].value_counts(normalize=True)*100"
   ]
  },
  {
   "cell_type": "code",
   "execution_count": 22,
   "id": "c66724a7",
   "metadata": {},
   "outputs": [
    {
     "data": {
      "text/plain": [
       "<AxesSubplot:xlabel='Gate location', ylabel='count'>"
      ]
     },
     "execution_count": 22,
     "metadata": {},
     "output_type": "execute_result"
    },
    {
     "data": {
      "image/png": "[encoded data removed]",
      "text/plain": [
       "<Figure size 432x288 with 1 Axes>"
      ]
     },
     "metadata": {
      "needs_background": "light"
     },
     "output_type": "display_data"
    }
   ],
   "source": [
    "# Plotting countplot\n",
    "sns.countplot(data=train, x='Gate location')"
   ]
  },
  {
   "cell_type": "markdown",
   "id": "09bcd220",
   "metadata": {},
   "source": [
    "### Food and drink"
   ]
  },
  {
   "cell_type": "code",
   "execution_count": 23,
   "id": "48277914",
   "metadata": {},
   "outputs": [
    {
     "data": {
      "text/plain": [
       "4    23.443756\n",
       "5    21.474630\n",
       "3    21.462119\n",
       "2    21.161842\n",
       "1    12.354674\n",
       "0     0.102980\n",
       "Name: Food and drink, dtype: float64"
      ]
     },
     "execution_count": 23,
     "metadata": {},
     "output_type": "execute_result"
    }
   ],
   "source": [
    "# Checking the dsitribution of variables\n",
    "train['Food and drink'].value_counts(normalize=True)*100"
   ]
  },
  {
   "cell_type": "code",
   "execution_count": 24,
   "id": "ff56a253",
   "metadata": {},
   "outputs": [
    {
     "data": {
      "text/plain": [
       "<AxesSubplot:xlabel='Food and drink', ylabel='count'>"
      ]
     },
     "execution_count": 24,
     "metadata": {},
     "output_type": "execute_result"
    },
    {
     "data": {
      "image/png": "[encoded data removed]",
      "text/plain": [
       "<Figure size 432x288 with 1 Axes>"
      ]
     },
     "metadata": {
      "needs_background": "light"
     },
     "output_type": "display_data"
    }
   ],
   "source": [
    "# Plotting countplot\n",
    "sns.countplot(data=train, x='Food and drink')"
   ]
  },
  {
   "cell_type": "markdown",
   "id": "5f97aee7",
   "metadata": {},
   "source": [
    "### Online boarding"
   ]
  },
  {
   "cell_type": "code",
   "execution_count": 25,
   "id": "f7ef4520",
   "metadata": {},
   "outputs": [
    {
     "data": {
      "text/plain": [
       "4    29.606175\n",
       "3    20.984755\n",
       "5    19.934747\n",
       "2    16.847282\n",
       "1    10.290268\n",
       "0     2.336772\n",
       "Name: Online boarding, dtype: float64"
      ]
     },
     "execution_count": 25,
     "metadata": {},
     "output_type": "execute_result"
    }
   ],
   "source": [
    "# Checking the dsitribution of variables\n",
    "train['Online boarding'].value_counts(normalize=True)*100"
   ]
  },
  {
   "cell_type": "code",
   "execution_count": 26,
   "id": "43f874dd",
   "metadata": {},
   "outputs": [
    {
     "data": {
      "text/plain": [
       "<AxesSubplot:xlabel='Online boarding', ylabel='count'>"
      ]
     },
     "execution_count": 26,
     "metadata": {},
     "output_type": "execute_result"
    },
    {
     "data": {
      "image/png": "[encoded data removed]",
      "text/plain": [
       "<Figure size 432x288 with 1 Axes>"
      ]
     },
     "metadata": {
      "needs_background": "light"
     },
     "output_type": "display_data"
    }
   ],
   "source": [
    "# Plotting countplot\n",
    "sns.countplot(data=train, x='Online boarding')"
   ]
  },
  {
   "cell_type": "markdown",
   "id": "d4c94c12",
   "metadata": {},
   "source": [
    "### Seat comfort"
   ]
  },
  {
   "cell_type": "code",
   "execution_count": 27,
   "id": "a21bf570",
   "metadata": {},
   "outputs": [
    {
     "data": {
      "text/plain": [
       "4    30.571489\n",
       "5    25.475439\n",
       "3    17.993532\n",
       "2    14.337273\n",
       "1    11.621304\n",
       "0     0.000962\n",
       "Name: Seat comfort, dtype: float64"
      ]
     },
     "execution_count": 27,
     "metadata": {},
     "output_type": "execute_result"
    }
   ],
   "source": [
    "# Checking the dsitribution of variables\n",
    "train['Seat comfort'].value_counts(normalize=True)*100"
   ]
  },
  {
   "cell_type": "code",
   "execution_count": 28,
   "id": "f80fdcf3",
   "metadata": {},
   "outputs": [
    {
     "data": {
      "text/plain": [
       "<AxesSubplot:xlabel='Seat comfort', ylabel='count'>"
      ]
     },
     "execution_count": 28,
     "metadata": {},
     "output_type": "execute_result"
    },
    {
     "data": {
      "image/png": "[encoded data removed]",
      "text/plain": [
       "<Figure size 432x288 with 1 Axes>"
      ]
     },
     "metadata": {
      "needs_background": "light"
     },
     "output_type": "display_data"
    }
   ],
   "source": [
    "# Plotting countplot\n",
    "sns.countplot(data=train, x='Seat comfort')"
   ]
  },
  {
   "cell_type": "markdown",
   "id": "a8453e0f",
   "metadata": {},
   "source": [
    "### Inflight entertainment"
   ]
  },
  {
   "cell_type": "code",
   "execution_count": 29,
   "id": "8120cd11",
   "metadata": {},
   "outputs": [
    {
     "data": {
      "text/plain": [
       "4    28.317485\n",
       "5    24.265668\n",
       "3    18.419888\n",
       "2    16.974322\n",
       "1    12.009162\n",
       "0     0.013474\n",
       "Name: Inflight entertainment, dtype: float64"
      ]
     },
     "execution_count": 29,
     "metadata": {},
     "output_type": "execute_result"
    }
   ],
   "source": [
    "# Checking the dsitribution of variables\n",
    "train['Inflight entertainment'].value_counts(normalize=True)*100"
   ]
  },
  {
   "cell_type": "code",
   "execution_count": 30,
   "id": "f5e2fac3",
   "metadata": {},
   "outputs": [
    {
     "data": {
      "text/plain": [
       "<AxesSubplot:xlabel='Inflight entertainment', ylabel='count'>"
      ]
     },
     "execution_count": 30,
     "metadata": {},
     "output_type": "execute_result"
    },
    {
     "data": {
      "image/png": "[encoded data removed]",
      "text/plain": [
       "<Figure size 432x288 with 1 Axes>"
      ]
     },
     "metadata": {
      "needs_background": "light"
     },
     "output_type": "display_data"
    }
   ],
   "source": [
    "# Plotting countplot\n",
    "sns.countplot(data=train, x='Inflight entertainment')"
   ]
  },
  {
   "cell_type": "markdown",
   "id": "4374fbfb",
   "metadata": {},
   "source": [
    "### On-board service"
   ]
  },
  {
   "cell_type": "code",
   "execution_count": 31,
   "id": "0e9336d1",
   "metadata": {},
   "outputs": [
    {
     "data": {
      "text/plain": [
       "4    29.707230\n",
       "5    22.759470\n",
       "3    21.975092\n",
       "2    14.129389\n",
       "1    11.425932\n",
       "0     0.002887\n",
       "Name: On-board service, dtype: float64"
      ]
     },
     "execution_count": 31,
     "metadata": {},
     "output_type": "execute_result"
    }
   ],
   "source": [
    "# Checking the dsitribution of variables\n",
    "train['On-board service'].value_counts(normalize=True)*100"
   ]
  },
  {
   "cell_type": "code",
   "execution_count": 32,
   "id": "2ea4dca4",
   "metadata": {},
   "outputs": [
    {
     "data": {
      "text/plain": [
       "<AxesSubplot:xlabel='On-board service', ylabel='count'>"
      ]
     },
     "execution_count": 32,
     "metadata": {},
     "output_type": "execute_result"
    },
    {
     "data": {
      "image/png": "[encoded data removed]",
      "text/plain": [
       "<Figure size 432x288 with 1 Axes>"
      ]
     },
     "metadata": {
      "needs_background": "light"
     },
     "output_type": "display_data"
    }
   ],
   "source": [
    "# Plotting countplot\n",
    "sns.countplot(data=train, x='On-board service')"
   ]
  },
  {
   "cell_type": "markdown",
   "id": "4d34862b",
   "metadata": {},
   "source": [
    "### Leg room service"
   ]
  },
  {
   "cell_type": "code",
   "execution_count": 33,
   "id": "92d3b2e7",
   "metadata": {},
   "outputs": [
    {
     "data": {
      "text/plain": [
       "4    27.707307\n",
       "5    23.740183\n",
       "3    19.342855\n",
       "2    18.791384\n",
       "1     9.964005\n",
       "0     0.454265\n",
       "Name: Leg room service, dtype: float64"
      ]
     },
     "execution_count": 33,
     "metadata": {},
     "output_type": "execute_result"
    }
   ],
   "source": [
    "# Checking the dsitribution of variables\n",
    "train['Leg room service'].value_counts(normalize=True)*100"
   ]
  },
  {
   "cell_type": "code",
   "execution_count": 34,
   "id": "6f06cfe0",
   "metadata": {},
   "outputs": [
    {
     "data": {
      "text/plain": [
       "<AxesSubplot:xlabel='Leg room service', ylabel='count'>"
      ]
     },
     "execution_count": 34,
     "metadata": {},
     "output_type": "execute_result"
    },
    {
     "data": {
      "image/png": "[encoded data removed]",
      "text/plain": [
       "<Figure size 432x288 with 1 Axes>"
      ]
     },
     "metadata": {
      "needs_background": "light"
     },
     "output_type": "display_data"
    }
   ],
   "source": [
    "# Plotting countplot\n",
    "sns.countplot(data=train, x='Leg room service')"
   ]
  },
  {
   "cell_type": "markdown",
   "id": "5b001542",
   "metadata": {},
   "source": [
    "### Baggage handling"
   ]
  },
  {
   "cell_type": "code",
   "execution_count": 35,
   "id": "b6364ed3",
   "metadata": {},
   "outputs": [
    {
     "data": {
      "text/plain": [
       "4    35.978403\n",
       "5    26.111603\n",
       "3    19.856791\n",
       "2    11.088120\n",
       "1     6.965083\n",
       "Name: Baggage handling, dtype: float64"
      ]
     },
     "execution_count": 35,
     "metadata": {},
     "output_type": "execute_result"
    }
   ],
   "source": [
    "# Checking the dsitribution of variables\n",
    "train['Baggage handling'].value_counts(normalize=True)*100"
   ]
  },
  {
   "cell_type": "code",
   "execution_count": 36,
   "id": "29aba4f9",
   "metadata": {},
   "outputs": [
    {
     "data": {
      "text/plain": [
       "<AxesSubplot:xlabel='Baggage handling', ylabel='count'>"
      ]
     },
     "execution_count": 36,
     "metadata": {},
     "output_type": "execute_result"
    },
    {
     "data": {
      "image/png": "[encoded data removed]",
      "text/plain": [
       "<Figure size 432x288 with 1 Axes>"
      ]
     },
     "metadata": {
      "needs_background": "light"
     },
     "output_type": "display_data"
    }
   ],
   "source": [
    "# Plotting countplot\n",
    "sns.countplot(data=train, x='Baggage handling')"
   ]
  },
  {
   "cell_type": "markdown",
   "id": "fec7f12c",
   "metadata": {},
   "source": [
    "### Checkin service"
   ]
  },
  {
   "cell_type": "code",
   "execution_count": 37,
   "id": "8e4e6d7c",
   "metadata": {},
   "outputs": [
    {
     "data": {
      "text/plain": [
       "4    27.963312\n",
       "3    27.377194\n",
       "5    19.844279\n",
       "2    12.408569\n",
       "1    12.405682\n",
       "0     0.000962\n",
       "Name: Checkin service, dtype: float64"
      ]
     },
     "execution_count": 37,
     "metadata": {},
     "output_type": "execute_result"
    }
   ],
   "source": [
    "# Checking the dsitribution of variables\n",
    "train['Checkin service'].value_counts(normalize=True)*100"
   ]
  },
  {
   "cell_type": "code",
   "execution_count": 38,
   "id": "26cd3b0e",
   "metadata": {},
   "outputs": [
    {
     "data": {
      "text/plain": [
       "<AxesSubplot:xlabel='Checkin service', ylabel='count'>"
      ]
     },
     "execution_count": 38,
     "metadata": {},
     "output_type": "execute_result"
    },
    {
     "data": {
      "image/png": "[encoded data removed]",
      "text/plain": [
       "<Figure size 432x288 with 1 Axes>"
      ]
     },
     "metadata": {
      "needs_background": "light"
     },
     "output_type": "display_data"
    }
   ],
   "source": [
    "# Plotting countplot\n",
    "sns.countplot(data=train, x='Checkin service')"
   ]
  },
  {
   "cell_type": "markdown",
   "id": "9c4ea268",
   "metadata": {},
   "source": [
    "### Inflight service"
   ]
  },
  {
   "cell_type": "code",
   "execution_count": 39,
   "id": "d704dc59",
   "metadata": {},
   "outputs": [
    {
     "data": {
      "text/plain": [
       "4    36.519287\n",
       "5    26.097167\n",
       "3    19.536303\n",
       "2    11.026524\n",
       "1     6.817832\n",
       "0     0.002887\n",
       "Name: Inflight service, dtype: float64"
      ]
     },
     "execution_count": 39,
     "metadata": {},
     "output_type": "execute_result"
    }
   ],
   "source": [
    "# Checking the dsitribution of variables\n",
    "train['Inflight service'].value_counts(normalize=True)*100"
   ]
  },
  {
   "cell_type": "code",
   "execution_count": 40,
   "id": "74e6421d",
   "metadata": {},
   "outputs": [
    {
     "data": {
      "text/plain": [
       "<AxesSubplot:xlabel='Inflight service', ylabel='count'>"
      ]
     },
     "execution_count": 40,
     "metadata": {},
     "output_type": "execute_result"
    },
    {
     "data": {
      "image/png": "[encoded data removed]",
      "text/plain": [
       "<Figure size 432x288 with 1 Axes>"
      ]
     },
     "metadata": {
      "needs_background": "light"
     },
     "output_type": "display_data"
    }
   ],
   "source": [
    "# Plotting countplot\n",
    "sns.countplot(data=train, x='Inflight service')"
   ]
  },
  {
   "cell_type": "markdown",
   "id": "3443b4b6",
   "metadata": {},
   "source": [
    "### Cleanliness"
   ]
  },
  {
   "cell_type": "code",
   "execution_count": 41,
   "id": "39bcdd06",
   "metadata": {},
   "outputs": [
    {
     "data": {
      "text/plain": [
       "4    26.157800\n",
       "3    23.650678\n",
       "5    21.836503\n",
       "2    15.525870\n",
       "1    12.817601\n",
       "0     0.011549\n",
       "Name: Cleanliness, dtype: float64"
      ]
     },
     "execution_count": 41,
     "metadata": {},
     "output_type": "execute_result"
    }
   ],
   "source": [
    "# Checking the dsitribution of variables\n",
    "train['Cleanliness'].value_counts(normalize=True)*100"
   ]
  },
  {
   "cell_type": "code",
   "execution_count": 42,
   "id": "85e35bfd",
   "metadata": {},
   "outputs": [
    {
     "data": {
      "text/plain": [
       "<AxesSubplot:xlabel='Cleanliness', ylabel='count'>"
      ]
     },
     "execution_count": 42,
     "metadata": {},
     "output_type": "execute_result"
    },
    {
     "data": {
      "image/png": "[encoded data removed]",
      "text/plain": [
       "<Figure size 432x288 with 1 Axes>"
      ]
     },
     "metadata": {
      "needs_background": "light"
     },
     "output_type": "display_data"
    }
   ],
   "source": [
    "# Plotting countplot\n",
    "sns.countplot(data=train, x='Cleanliness')"
   ]
  },
  {
   "cell_type": "markdown",
   "id": "f72a59f2",
   "metadata": {},
   "source": [
    "### Satisfaction"
   ]
  },
  {
   "cell_type": "code",
   "execution_count": 43,
   "id": "11d13b9e",
   "metadata": {},
   "outputs": [
    {
     "data": {
      "text/plain": [
       "dissatisfied    56.666731\n",
       "satisfied       43.333269\n",
       "Name: satisfaction, dtype: float64"
      ]
     },
     "execution_count": 43,
     "metadata": {},
     "output_type": "execute_result"
    }
   ],
   "source": [
    "# Checking the dsitribution of variables\n",
    "train['satisfaction'].value_counts(normalize=True)*100"
   ]
  },
  {
   "cell_type": "code",
   "execution_count": 44,
   "id": "0546b0c0",
   "metadata": {},
   "outputs": [
    {
     "data": {
      "text/plain": [
       "<AxesSubplot:xlabel='satisfaction', ylabel='count'>"
      ]
     },
     "execution_count": 44,
     "metadata": {},
     "output_type": "execute_result"
    },
    {
     "data": {
      "image/png": "[encoded data removed]",
      "text/plain": [
       "<Figure size 432x288 with 1 Axes>"
      ]
     },
     "metadata": {
      "needs_background": "light"
     },
     "output_type": "display_data"
    }
   ],
   "source": [
    "# Plotting countplot\n",
    "sns.countplot(data=train, x='satisfaction')"
   ]
  },
  {
   "cell_type": "markdown",
   "id": "f4546242",
   "metadata": {},
   "source": [
    "## Continuous Variables"
   ]
  },
  {
   "cell_type": "code",
   "execution_count": 45,
   "id": "e67ebbc8",
   "metadata": {},
   "outputs": [
    {
     "data": {
      "text/html": [
       "<div>\n",
       "<style scoped>\n",
       "    .dataframe tbody tr th:only-of-type {\n",
       "        vertical-align: middle;\n",
       "    }\n",
       "\n",
       "    .dataframe tbody tr th {\n",
       "        vertical-align: top;\n",
       "    }\n",
       "\n",
       "    .dataframe thead th {\n",
       "        text-align: right;\n",
       "    }\n",
       "</style>\n",
       "<table border=\"1\" class=\"dataframe\">\n",
       "  <thead>\n",
       "    <tr style=\"text-align: right;\">\n",
       "      <th></th>\n",
       "      <th>id</th>\n",
       "      <th>Age</th>\n",
       "      <th>Flight Distance</th>\n",
       "      <th>Inflight wifi service</th>\n",
       "      <th>Departure/Arrival time convenient</th>\n",
       "      <th>Ease of Online booking</th>\n",
       "      <th>Gate location</th>\n",
       "      <th>Food and drink</th>\n",
       "      <th>Online boarding</th>\n",
       "      <th>Seat comfort</th>\n",
       "      <th>Inflight entertainment</th>\n",
       "      <th>On-board service</th>\n",
       "      <th>Leg room service</th>\n",
       "      <th>Baggage handling</th>\n",
       "      <th>Checkin service</th>\n",
       "      <th>Inflight service</th>\n",
       "      <th>Cleanliness</th>\n",
       "      <th>Departure Delay in Minutes</th>\n",
       "      <th>Arrival Delay in Minutes</th>\n",
       "    </tr>\n",
       "  </thead>\n",
       "  <tbody>\n",
       "    <tr>\n",
       "      <th>count</th>\n",
       "      <td>103904.000000</td>\n",
       "      <td>103904.000000</td>\n",
       "      <td>103904.000000</td>\n",
       "      <td>103904.000000</td>\n",
       "      <td>103904.000000</td>\n",
       "      <td>103904.000000</td>\n",
       "      <td>103904.000000</td>\n",
       "      <td>103904.000000</td>\n",
       "      <td>103904.000000</td>\n",
       "      <td>103904.000000</td>\n",
       "      <td>103904.000000</td>\n",
       "      <td>103904.000000</td>\n",
       "      <td>103904.000000</td>\n",
       "      <td>103904.000000</td>\n",
       "      <td>103904.000000</td>\n",
       "      <td>103904.000000</td>\n",
       "      <td>103904.000000</td>\n",
       "      <td>103904.000000</td>\n",
       "      <td>103594.000000</td>\n",
       "    </tr>\n",
       "    <tr>\n",
       "      <th>mean</th>\n",
       "      <td>64924.210502</td>\n",
       "      <td>39.379706</td>\n",
       "      <td>1189.448375</td>\n",
       "      <td>2.729683</td>\n",
       "      <td>3.060296</td>\n",
       "      <td>2.756901</td>\n",
       "      <td>2.976883</td>\n",
       "      <td>3.202129</td>\n",
       "      <td>3.250375</td>\n",
       "      <td>3.439396</td>\n",
       "      <td>3.358158</td>\n",
       "      <td>3.382363</td>\n",
       "      <td>3.351055</td>\n",
       "      <td>3.631833</td>\n",
       "      <td>3.304290</td>\n",
       "      <td>3.640428</td>\n",
       "      <td>3.286351</td>\n",
       "      <td>14.815618</td>\n",
       "      <td>15.178678</td>\n",
       "    </tr>\n",
       "    <tr>\n",
       "      <th>std</th>\n",
       "      <td>37463.812252</td>\n",
       "      <td>15.114964</td>\n",
       "      <td>997.147281</td>\n",
       "      <td>1.327829</td>\n",
       "      <td>1.525075</td>\n",
       "      <td>1.398929</td>\n",
       "      <td>1.277621</td>\n",
       "      <td>1.329533</td>\n",
       "      <td>1.349509</td>\n",
       "      <td>1.319088</td>\n",
       "      <td>1.332991</td>\n",
       "      <td>1.288354</td>\n",
       "      <td>1.315605</td>\n",
       "      <td>1.180903</td>\n",
       "      <td>1.265396</td>\n",
       "      <td>1.175663</td>\n",
       "      <td>1.312273</td>\n",
       "      <td>38.230901</td>\n",
       "      <td>38.698682</td>\n",
       "    </tr>\n",
       "    <tr>\n",
       "      <th>min</th>\n",
       "      <td>1.000000</td>\n",
       "      <td>7.000000</td>\n",
       "      <td>31.000000</td>\n",
       "      <td>0.000000</td>\n",
       "      <td>0.000000</td>\n",
       "      <td>0.000000</td>\n",
       "      <td>0.000000</td>\n",
       "      <td>0.000000</td>\n",
       "      <td>0.000000</td>\n",
       "      <td>0.000000</td>\n",
       "      <td>0.000000</td>\n",
       "      <td>0.000000</td>\n",
       "      <td>0.000000</td>\n",
       "      <td>1.000000</td>\n",
       "      <td>0.000000</td>\n",
       "      <td>0.000000</td>\n",
       "      <td>0.000000</td>\n",
       "      <td>0.000000</td>\n",
       "      <td>0.000000</td>\n",
       "    </tr>\n",
       "    <tr>\n",
       "      <th>25%</th>\n",
       "      <td>32533.750000</td>\n",
       "      <td>27.000000</td>\n",
       "      <td>414.000000</td>\n",
       "      <td>2.000000</td>\n",
       "      <td>2.000000</td>\n",
       "      <td>2.000000</td>\n",
       "      <td>2.000000</td>\n",
       "      <td>2.000000</td>\n",
       "      <td>2.000000</td>\n",
       "      <td>2.000000</td>\n",
       "      <td>2.000000</td>\n",
       "      <td>2.000000</td>\n",
       "      <td>2.000000</td>\n",
       "      <td>3.000000</td>\n",
       "      <td>3.000000</td>\n",
       "      <td>3.000000</td>\n",
       "      <td>2.000000</td>\n",
       "      <td>0.000000</td>\n",
       "      <td>0.000000</td>\n",
       "    </tr>\n",
       "    <tr>\n",
       "      <th>50%</th>\n",
       "      <td>64856.500000</td>\n",
       "      <td>40.000000</td>\n",
       "      <td>843.000000</td>\n",
       "      <td>3.000000</td>\n",
       "      <td>3.000000</td>\n",
       "      <td>3.000000</td>\n",
       "      <td>3.000000</td>\n",
       "      <td>3.000000</td>\n",
       "      <td>3.000000</td>\n",
       "      <td>4.000000</td>\n",
       "      <td>4.000000</td>\n",
       "      <td>4.000000</td>\n",
       "      <td>4.000000</td>\n",
       "      <td>4.000000</td>\n",
       "      <td>3.000000</td>\n",
       "      <td>4.000000</td>\n",
       "      <td>3.000000</td>\n",
       "      <td>0.000000</td>\n",
       "      <td>0.000000</td>\n",
       "    </tr>\n",
       "    <tr>\n",
       "      <th>75%</th>\n",
       "      <td>97368.250000</td>\n",
       "      <td>51.000000</td>\n",
       "      <td>1743.000000</td>\n",
       "      <td>4.000000</td>\n",
       "      <td>4.000000</td>\n",
       "      <td>4.000000</td>\n",
       "      <td>4.000000</td>\n",
       "      <td>4.000000</td>\n",
       "      <td>4.000000</td>\n",
       "      <td>5.000000</td>\n",
       "      <td>4.000000</td>\n",
       "      <td>4.000000</td>\n",
       "      <td>4.000000</td>\n",
       "      <td>5.000000</td>\n",
       "      <td>4.000000</td>\n",
       "      <td>5.000000</td>\n",
       "      <td>4.000000</td>\n",
       "      <td>12.000000</td>\n",
       "      <td>13.000000</td>\n",
       "    </tr>\n",
       "    <tr>\n",
       "      <th>max</th>\n",
       "      <td>129880.000000</td>\n",
       "      <td>85.000000</td>\n",
       "      <td>4983.000000</td>\n",
       "      <td>5.000000</td>\n",
       "      <td>5.000000</td>\n",
       "      <td>5.000000</td>\n",
       "      <td>5.000000</td>\n",
       "      <td>5.000000</td>\n",
       "      <td>5.000000</td>\n",
       "      <td>5.000000</td>\n",
       "      <td>5.000000</td>\n",
       "      <td>5.000000</td>\n",
       "      <td>5.000000</td>\n",
       "      <td>5.000000</td>\n",
       "      <td>5.000000</td>\n",
       "      <td>5.000000</td>\n",
       "      <td>5.000000</td>\n",
       "      <td>1592.000000</td>\n",
       "      <td>1584.000000</td>\n",
       "    </tr>\n",
       "  </tbody>\n",
       "</table>\n",
       "</div>"
      ],
      "text/plain": [
       "                  id            Age  Flight Distance  Inflight wifi service  \\\n",
       "count  103904.000000  103904.000000    103904.000000          103904.000000   \n",
       "mean    64924.210502      39.379706      1189.448375               2.729683   \n",
       "std     37463.812252      15.114964       997.147281               1.327829   \n",
       "min         1.000000       7.000000        31.000000               0.000000   \n",
       "25%     32533.750000      27.000000       414.000000               2.000000   \n",
       "50%     64856.500000      40.000000       843.000000               3.000000   \n",
       "75%     97368.250000      51.000000      1743.000000               4.000000   \n",
       "max    129880.000000      85.000000      4983.000000               5.000000   \n",
       "\n",
       "       Departure/Arrival time convenient  Ease of Online booking  \\\n",
       "count                      103904.000000           103904.000000   \n",
       "mean                            3.060296                2.756901   \n",
       "std                             1.525075                1.398929   \n",
       "min                             0.000000                0.000000   \n",
       "25%                             2.000000                2.000000   \n",
       "50%                             3.000000                3.000000   \n",
       "75%                             4.000000                4.000000   \n",
       "max                             5.000000                5.000000   \n",
       "\n",
       "       Gate location  Food and drink  Online boarding   Seat comfort  \\\n",
       "count  103904.000000   103904.000000    103904.000000  103904.000000   \n",
       "mean        2.976883        3.202129         3.250375       3.439396   \n",
       "std         1.277621        1.329533         1.349509       1.319088   \n",
       "min         0.000000        0.000000         0.000000       0.000000   \n",
       "25%         2.000000        2.000000         2.000000       2.000000   \n",
       "50%         3.000000        3.000000         3.000000       4.000000   \n",
       "75%         4.000000        4.000000         4.000000       5.000000   \n",
       "max         5.000000        5.000000         5.000000       5.000000   \n",
       "\n",
       "       Inflight entertainment  On-board service  Leg room service  \\\n",
       "count           103904.000000     103904.000000     103904.000000   \n",
       "mean                 3.358158          3.382363          3.351055   \n",
       "std                  1.332991          1.288354          1.315605   \n",
       "min                  0.000000          0.000000          0.000000   \n",
       "25%                  2.000000          2.000000          2.000000   \n",
       "50%                  4.000000          4.000000          4.000000   \n",
       "75%                  4.000000          4.000000          4.000000   \n",
       "max                  5.000000          5.000000          5.000000   \n",
       "\n",
       "       Baggage handling  Checkin service  Inflight service    Cleanliness  \\\n",
       "count     103904.000000    103904.000000     103904.000000  103904.000000   \n",
       "mean           3.631833         3.304290          3.640428       3.286351   \n",
       "std            1.180903         1.265396          1.175663       1.312273   \n",
       "min            1.000000         0.000000          0.000000       0.000000   \n",
       "25%            3.000000         3.000000          3.000000       2.000000   \n",
       "50%            4.000000         3.000000          4.000000       3.000000   \n",
       "75%            5.000000         4.000000          5.000000       4.000000   \n",
       "max            5.000000         5.000000          5.000000       5.000000   \n",
       "\n",
       "       Departure Delay in Minutes  Arrival Delay in Minutes  \n",
       "count               103904.000000             103594.000000  \n",
       "mean                    14.815618                 15.178678  \n",
       "std                     38.230901                 38.698682  \n",
       "min                      0.000000                  0.000000  \n",
       "25%                      0.000000                  0.000000  \n",
       "50%                      0.000000                  0.000000  \n",
       "75%                     12.000000                 13.000000  \n",
       "max                   1592.000000               1584.000000  "
      ]
     },
     "execution_count": 45,
     "metadata": {},
     "output_type": "execute_result"
    }
   ],
   "source": [
    "# Generating descriptive statistics\n",
    "train.describe()"
   ]
  },
  {
   "cell_type": "markdown",
   "id": "3147eb1d",
   "metadata": {},
   "source": [
    "### Age"
   ]
  },
  {
   "cell_type": "code",
   "execution_count": 46,
   "id": "2a137ac6",
   "metadata": {},
   "outputs": [
    {
     "data": {
      "text/plain": [
       "<AxesSubplot:xlabel='Age', ylabel='Density'>"
      ]
     },
     "execution_count": 46,
     "metadata": {},
     "output_type": "execute_result"
    },
    {
     "data": {
      "image/png": "[encoded data removed]",
      "text/plain": [
       "<Figure size 432x288 with 1 Axes>"
      ]
     },
     "metadata": {
      "needs_background": "light"
     },
     "output_type": "display_data"
    }
   ],
   "source": [
    "# Plotting Histogram\n",
    "sns.distplot(train['Age'])"
   ]
  },
  {
   "cell_type": "code",
   "execution_count": 47,
   "id": "c059dabb",
   "metadata": {},
   "outputs": [
    {
     "data": {
      "text/plain": [
       "<AxesSubplot:xlabel='Flight Distance', ylabel='Density'>"
      ]
     },
     "execution_count": 47,
     "metadata": {},
     "output_type": "execute_result"
    },
    {
     "data": {
      "image/png": "[encoded data removed]",
      "text/plain": [
       "<Figure size 432x288 with 1 Axes>"
      ]
     },
     "metadata": {
      "needs_background": "light"
     },
     "output_type": "display_data"
    }
   ],
   "source": [
    "# Plotting Histogram\n",
    "sns.distplot(train['Flight Distance'])"
   ]
  },
  {
   "cell_type": "code",
   "execution_count": 48,
   "id": "4a2e87d5",
   "metadata": {},
   "outputs": [
    {
     "data": {
      "text/plain": [
       "<AxesSubplot:xlabel='Departure Delay in Minutes', ylabel='Density'>"
      ]
     },
     "execution_count": 48,
     "metadata": {},
     "output_type": "execute_result"
    },
    {
     "data": {
      "image/png": "[encoded data removed]",
      "text/plain": [
       "<Figure size 432x288 with 1 Axes>"
      ]
     },
     "metadata": {
      "needs_background": "light"
     },
     "output_type": "display_data"
    }
   ],
   "source": [
    "# Plotting Histogram\n",
    "sns.distplot(train['Departure Delay in Minutes'])"
   ]
  },
  {
   "cell_type": "code",
   "execution_count": 49,
   "id": "412627a0",
   "metadata": {},
   "outputs": [
    {
     "data": {
      "text/plain": [
       "<AxesSubplot:xlabel='Arrival Delay in Minutes', ylabel='Density'>"
      ]
     },
     "execution_count": 49,
     "metadata": {},
     "output_type": "execute_result"
    },
    {
     "data": {
      "image/png": "[encoded data removed]",
      "text/plain": [
       "<Figure size 432x288 with 1 Axes>"
      ]
     },
     "metadata": {
      "needs_background": "light"
     },
     "output_type": "display_data"
    }
   ],
   "source": [
    "# Plotting Histogram\n",
    "sns.distplot(train['Arrival Delay in Minutes'])"
   ]
  },
  {
   "cell_type": "markdown",
   "id": "ecfb1a8f",
   "metadata": {},
   "source": [
    "# Bivariate Analysis"
   ]
  },
  {
   "cell_type": "code",
   "execution_count": 50,
   "id": "d0fdda81",
   "metadata": {},
   "outputs": [
    {
     "data": {
      "text/plain": [
       "<AxesSubplot:xlabel='satisfaction', ylabel='count'>"
      ]
     },
     "execution_count": 50,
     "metadata": {},
     "output_type": "execute_result"
    },
    {
     "data": {
      "image/png": "[encoded data removed]",
      "text/plain": [
       "<Figure size 432x288 with 1 Axes>"
      ]
     },
     "metadata": {
      "needs_background": "light"
     },
     "output_type": "display_data"
    }
   ],
   "source": [
    "# Visualising Distribution of Satisfaction across Gender\n",
    "sns.countplot(data=train,x='satisfaction', hue='Gender')"
   ]
  },
  {
   "cell_type": "code",
   "execution_count": 51,
   "id": "c4cb782c",
   "metadata": {},
   "outputs": [
    {
     "data": {
      "text/plain": [
       "<AxesSubplot:xlabel='satisfaction', ylabel='count'>"
      ]
     },
     "execution_count": 51,
     "metadata": {},
     "output_type": "execute_result"
    },
    {
     "data": {
      "image/png": "[encoded data removed]",
      "text/plain": [
       "<Figure size 432x288 with 1 Axes>"
      ]
     },
     "metadata": {
      "needs_background": "light"
     },
     "output_type": "display_data"
    }
   ],
   "source": [
    "# Visualising Distribution of Satisfaction across Customer Type\n",
    "sns.countplot(data=train,x='satisfaction', hue='Customer Type')"
   ]
  },
  {
   "cell_type": "code",
   "execution_count": 52,
   "id": "e3443b0e",
   "metadata": {},
   "outputs": [
    {
     "data": {
      "text/plain": [
       "<AxesSubplot:xlabel='satisfaction', ylabel='count'>"
      ]
     },
     "execution_count": 52,
     "metadata": {},
     "output_type": "execute_result"
    },
    {
     "data": {
      "image/png": "[encoded data removed]",
      "text/plain": [
       "<Figure size 432x288 with 1 Axes>"
      ]
     },
     "metadata": {
      "needs_background": "light"
     },
     "output_type": "display_data"
    }
   ],
   "source": [
    "# Visualising Distribution of Satisfaction across Type of Travel\n",
    "sns.countplot(data=train,x='satisfaction', hue='Type of Travel')"
   ]
  },
  {
   "cell_type": "markdown",
   "id": "bb3cf904",
   "metadata": {},
   "source": [
    " - Passengers travelling for business trip are more satisfied compared to passengers travelling for personal trip. "
   ]
  },
  {
   "cell_type": "code",
   "execution_count": 53,
   "id": "640edb29",
   "metadata": {},
   "outputs": [
    {
     "data": {
      "text/plain": [
       "<AxesSubplot:xlabel='Class', ylabel='count'>"
      ]
     },
     "execution_count": 53,
     "metadata": {},
     "output_type": "execute_result"
    },
    {
     "data": {
      "image/png": "[encoded data removed]",
      "text/plain": [
       "<Figure size 432x288 with 1 Axes>"
      ]
     },
     "metadata": {
      "needs_background": "light"
     },
     "output_type": "display_data"
    }
   ],
   "source": [
    "# Visualising Distribution of Satisfaction across Class\n",
    "sns.countplot(data=train,x='Class', hue='satisfaction')"
   ]
  },
  {
   "cell_type": "markdown",
   "id": "264225a4",
   "metadata": {},
   "source": [
    " - People travelling through business class are satisfied comapred to Eco and Eco plus class.\n",
    " - People travelling through Eco class are dissatisfied compared to Business and Eco plus class."
   ]
  },
  {
   "cell_type": "code",
   "execution_count": 54,
   "id": "c9f0007d",
   "metadata": {},
   "outputs": [
    {
     "data": {
      "text/plain": [
       "<AxesSubplot:xlabel='Type of Travel', ylabel='count'>"
      ]
     },
     "execution_count": 54,
     "metadata": {},
     "output_type": "execute_result"
    },
    {
     "data": {
      "image/png": "[encoded data removed]",
      "text/plain": [
       "<Figure size 432x288 with 1 Axes>"
      ]
     },
     "metadata": {
      "needs_background": "light"
     },
     "output_type": "display_data"
    }
   ],
   "source": [
    "# Visualising Distribution of Type of Travel across Class\n",
    "sns.countplot(data=train,x='Type of Travel', hue='Class')"
   ]
  },
  {
   "cell_type": "markdown",
   "id": "e383c482",
   "metadata": {},
   "source": [
    " - Passenegrs travelling for business purpose prefer Business class.\n",
    " - Passenegrs travelling on a personal trip prefer Eco class."
   ]
  },
  {
   "cell_type": "markdown",
   "id": "9710e8c3",
   "metadata": {},
   "source": [
    "## Heatmap"
   ]
  },
  {
   "cell_type": "code",
   "execution_count": 55,
   "id": "8a94dc1a",
   "metadata": {},
   "outputs": [],
   "source": [
    "train['satisfaction'] = train['satisfaction'].map({'satisfied': 1, 'dissatisfied': 0})"
   ]
  },
  {
   "cell_type": "code",
   "execution_count": 56,
   "id": "fe934816",
   "metadata": {},
   "outputs": [
    {
     "data": {
      "image/png": "[encoded data removed]",
      "text/plain": [
       "<Figure size 1152x864 with 2 Axes>"
      ]
     },
     "metadata": {
      "needs_background": "light"
     },
     "output_type": "display_data"
    }
   ],
   "source": [
    "# Calculate the correlation matrix\n",
    "corr_matrix = train.corr()\n",
    "\n",
    "# Set up the matplotlib figure\n",
    "plt.figure(figsize=(16, 12))\n",
    "\n",
    "# Define the colormap\n",
    "cmap = sns.diverging_palette(10, 240, as_cmap=True)\n",
    "\n",
    "# Draw the heatmap with the correct aspect ratio\n",
    "sns.heatmap(corr_matrix, cmap=cmap, vmin=-1, vmax=1, annot=True, fmt=\".2f\", linewidths=.5)\n",
    "\n",
    "# Show the plot\n",
    "plt.show()"
   ]
  },
  {
   "cell_type": "markdown",
   "id": "0f5a0672",
   "metadata": {},
   "source": [
    " - Inflight wifi service is highly correlated with Ease of Online booking and Satisfaction.\n",
    " - Food and Drink, Seat Comfort, Inflight Entertainment, and Cleanliness are highly correlated with each other.\n",
    " - Online boarding and Satisfaction are highly correlated with each other.\n",
    " - On-board service and Inflight Service are highly correlated with each other.\n",
    " - Arrival delay in minutes and Departure delay in minutes are highly correlated with each other.\n",
    " - Ease of Online booking is highly overall correlated with Inflight wifi service."
   ]
  },
  {
   "cell_type": "markdown",
   "id": "5ca1aea9",
   "metadata": {},
   "source": [
    "# Treating missing values"
   ]
  },
  {
   "cell_type": "code",
   "execution_count": 57,
   "id": "a5e3eff5",
   "metadata": {},
   "outputs": [],
   "source": [
    "# Calculate the correlation between \"Departure Delay in Minutes\" and \"Arrival Delay in Minutes\"\n",
    "corr_value = train['Departure Delay in Minutes'].corr(train['Arrival Delay in Minutes'])"
   ]
  },
  {
   "cell_type": "code",
   "execution_count": 58,
   "id": "4171397b",
   "metadata": {},
   "outputs": [
    {
     "data": {
      "text/plain": [
       "0.9654809013755753"
      ]
     },
     "execution_count": 58,
     "metadata": {},
     "output_type": "execute_result"
    }
   ],
   "source": [
    "# Printing the correlation value\n",
    "corr_value"
   ]
  },
  {
   "cell_type": "code",
   "execution_count": 59,
   "id": "878c7e66",
   "metadata": {},
   "outputs": [],
   "source": [
    "# Replace missing values in \"Arrival Delay in Minutes\" with the corresponding values from \"Departure Delay in Minutes\"\n",
    "train['Arrival Delay in Minutes'].fillna(train['Departure Delay in Minutes'] * corr_value, inplace=True)"
   ]
  },
  {
   "cell_type": "code",
   "execution_count": 60,
   "id": "d7c75bfc",
   "metadata": {},
   "outputs": [
    {
     "data": {
      "text/plain": [
       "id                                   0\n",
       "Gender                               0\n",
       "Customer Type                        0\n",
       "Age                                  0\n",
       "Type of Travel                       0\n",
       "Class                                0\n",
       "Flight Distance                      0\n",
       "Inflight wifi service                0\n",
       "Departure/Arrival time convenient    0\n",
       "Ease of Online booking               0\n",
       "Gate location                        0\n",
       "Food and drink                       0\n",
       "Online boarding                      0\n",
       "Seat comfort                         0\n",
       "Inflight entertainment               0\n",
       "On-board service                     0\n",
       "Leg room service                     0\n",
       "Baggage handling                     0\n",
       "Checkin service                      0\n",
       "Inflight service                     0\n",
       "Cleanliness                          0\n",
       "Departure Delay in Minutes           0\n",
       "Arrival Delay in Minutes             0\n",
       "satisfaction                         0\n",
       "dtype: int64"
      ]
     },
     "execution_count": 60,
     "metadata": {},
     "output_type": "execute_result"
    }
   ],
   "source": [
    "# Checking for missing values\n",
    "train.isna().sum()"
   ]
  },
  {
   "cell_type": "code",
   "execution_count": 61,
   "id": "e2d18314",
   "metadata": {},
   "outputs": [
    {
     "data": {
      "text/plain": [
       "id                                     int64\n",
       "Gender                                object\n",
       "Customer Type                         object\n",
       "Age                                    int64\n",
       "Type of Travel                        object\n",
       "Class                                 object\n",
       "Flight Distance                        int64\n",
       "Inflight wifi service                  int64\n",
       "Departure/Arrival time convenient      int64\n",
       "Ease of Online booking                 int64\n",
       "Gate location                          int64\n",
       "Food and drink                         int64\n",
       "Online boarding                        int64\n",
       "Seat comfort                           int64\n",
       "Inflight entertainment                 int64\n",
       "On-board service                       int64\n",
       "Leg room service                       int64\n",
       "Baggage handling                       int64\n",
       "Checkin service                        int64\n",
       "Inflight service                       int64\n",
       "Cleanliness                            int64\n",
       "Departure Delay in Minutes             int64\n",
       "Arrival Delay in Minutes             float64\n",
       "satisfaction                           int64\n",
       "dtype: object"
      ]
     },
     "execution_count": 61,
     "metadata": {},
     "output_type": "execute_result"
    }
   ],
   "source": [
    "# Checking for data types\n",
    "train.dtypes"
   ]
  },
  {
   "cell_type": "markdown",
   "id": "a918fbdc",
   "metadata": {},
   "source": [
    "## One hot Encoding"
   ]
  },
  {
   "cell_type": "code",
   "execution_count": 62,
   "id": "4ca02584",
   "metadata": {},
   "outputs": [],
   "source": [
    "# Perform one-hot encoding for 'Gender', 'Customer Type', and 'Type of Travel'\n",
    "train = pd.get_dummies(train, columns=['Gender', 'Customer Type', 'Type of Travel','Class'], drop_first=True)"
   ]
  },
  {
   "cell_type": "code",
   "execution_count": 63,
   "id": "ec80afdb",
   "metadata": {},
   "outputs": [
    {
     "data": {
      "text/html": [
       "<div>\n",
       "<style scoped>\n",
       "    .dataframe tbody tr th:only-of-type {\n",
       "        vertical-align: middle;\n",
       "    }\n",
       "\n",
       "    .dataframe tbody tr th {\n",
       "        vertical-align: top;\n",
       "    }\n",
       "\n",
       "    .dataframe thead th {\n",
       "        text-align: right;\n",
       "    }\n",
       "</style>\n",
       "<table border=\"1\" class=\"dataframe\">\n",
       "  <thead>\n",
       "    <tr style=\"text-align: right;\">\n",
       "      <th></th>\n",
       "      <th>id</th>\n",
       "      <th>Age</th>\n",
       "      <th>Flight Distance</th>\n",
       "      <th>Inflight wifi service</th>\n",
       "      <th>Departure/Arrival time convenient</th>\n",
       "      <th>Ease of Online booking</th>\n",
       "      <th>Gate location</th>\n",
       "      <th>Food and drink</th>\n",
       "      <th>Online boarding</th>\n",
       "      <th>Seat comfort</th>\n",
       "      <th>...</th>\n",
       "      <th>Inflight service</th>\n",
       "      <th>Cleanliness</th>\n",
       "      <th>Departure Delay in Minutes</th>\n",
       "      <th>Arrival Delay in Minutes</th>\n",
       "      <th>satisfaction</th>\n",
       "      <th>Gender_Male</th>\n",
       "      <th>Customer Type_disloyal Customer</th>\n",
       "      <th>Type of Travel_Personal Travel</th>\n",
       "      <th>Class_Eco</th>\n",
       "      <th>Class_Eco Plus</th>\n",
       "    </tr>\n",
       "  </thead>\n",
       "  <tbody>\n",
       "    <tr>\n",
       "      <th>0</th>\n",
       "      <td>70172</td>\n",
       "      <td>13</td>\n",
       "      <td>460</td>\n",
       "      <td>3</td>\n",
       "      <td>4</td>\n",
       "      <td>3</td>\n",
       "      <td>1</td>\n",
       "      <td>5</td>\n",
       "      <td>3</td>\n",
       "      <td>5</td>\n",
       "      <td>...</td>\n",
       "      <td>5</td>\n",
       "      <td>5</td>\n",
       "      <td>25</td>\n",
       "      <td>18.0</td>\n",
       "      <td>0</td>\n",
       "      <td>1</td>\n",
       "      <td>0</td>\n",
       "      <td>1</td>\n",
       "      <td>0</td>\n",
       "      <td>1</td>\n",
       "    </tr>\n",
       "    <tr>\n",
       "      <th>1</th>\n",
       "      <td>5047</td>\n",
       "      <td>25</td>\n",
       "      <td>235</td>\n",
       "      <td>3</td>\n",
       "      <td>2</td>\n",
       "      <td>3</td>\n",
       "      <td>3</td>\n",
       "      <td>1</td>\n",
       "      <td>3</td>\n",
       "      <td>1</td>\n",
       "      <td>...</td>\n",
       "      <td>4</td>\n",
       "      <td>1</td>\n",
       "      <td>1</td>\n",
       "      <td>6.0</td>\n",
       "      <td>0</td>\n",
       "      <td>1</td>\n",
       "      <td>1</td>\n",
       "      <td>0</td>\n",
       "      <td>0</td>\n",
       "      <td>0</td>\n",
       "    </tr>\n",
       "    <tr>\n",
       "      <th>2</th>\n",
       "      <td>110028</td>\n",
       "      <td>26</td>\n",
       "      <td>1142</td>\n",
       "      <td>2</td>\n",
       "      <td>2</td>\n",
       "      <td>2</td>\n",
       "      <td>2</td>\n",
       "      <td>5</td>\n",
       "      <td>5</td>\n",
       "      <td>5</td>\n",
       "      <td>...</td>\n",
       "      <td>4</td>\n",
       "      <td>5</td>\n",
       "      <td>0</td>\n",
       "      <td>0.0</td>\n",
       "      <td>1</td>\n",
       "      <td>0</td>\n",
       "      <td>0</td>\n",
       "      <td>0</td>\n",
       "      <td>0</td>\n",
       "      <td>0</td>\n",
       "    </tr>\n",
       "    <tr>\n",
       "      <th>3</th>\n",
       "      <td>24026</td>\n",
       "      <td>25</td>\n",
       "      <td>562</td>\n",
       "      <td>2</td>\n",
       "      <td>5</td>\n",
       "      <td>5</td>\n",
       "      <td>5</td>\n",
       "      <td>2</td>\n",
       "      <td>2</td>\n",
       "      <td>2</td>\n",
       "      <td>...</td>\n",
       "      <td>4</td>\n",
       "      <td>2</td>\n",
       "      <td>11</td>\n",
       "      <td>9.0</td>\n",
       "      <td>0</td>\n",
       "      <td>0</td>\n",
       "      <td>0</td>\n",
       "      <td>0</td>\n",
       "      <td>0</td>\n",
       "      <td>0</td>\n",
       "    </tr>\n",
       "    <tr>\n",
       "      <th>4</th>\n",
       "      <td>119299</td>\n",
       "      <td>61</td>\n",
       "      <td>214</td>\n",
       "      <td>3</td>\n",
       "      <td>3</td>\n",
       "      <td>3</td>\n",
       "      <td>3</td>\n",
       "      <td>4</td>\n",
       "      <td>5</td>\n",
       "      <td>5</td>\n",
       "      <td>...</td>\n",
       "      <td>3</td>\n",
       "      <td>3</td>\n",
       "      <td>0</td>\n",
       "      <td>0.0</td>\n",
       "      <td>1</td>\n",
       "      <td>1</td>\n",
       "      <td>0</td>\n",
       "      <td>0</td>\n",
       "      <td>0</td>\n",
       "      <td>0</td>\n",
       "    </tr>\n",
       "  </tbody>\n",
       "</table>\n",
       "<p>5 rows × 25 columns</p>\n",
       "</div>"
      ],
      "text/plain": [
       "       id  Age  Flight Distance  Inflight wifi service  \\\n",
       "0   70172   13              460                      3   \n",
       "1    5047   25              235                      3   \n",
       "2  110028   26             1142                      2   \n",
       "3   24026   25              562                      2   \n",
       "4  119299   61              214                      3   \n",
       "\n",
       "   Departure/Arrival time convenient  Ease of Online booking  Gate location  \\\n",
       "0                                  4                       3              1   \n",
       "1                                  2                       3              3   \n",
       "2                                  2                       2              2   \n",
       "3                                  5                       5              5   \n",
       "4                                  3                       3              3   \n",
       "\n",
       "   Food and drink  Online boarding  Seat comfort  ...  Inflight service  \\\n",
       "0               5                3             5  ...                 5   \n",
       "1               1                3             1  ...                 4   \n",
       "2               5                5             5  ...                 4   \n",
       "3               2                2             2  ...                 4   \n",
       "4               4                5             5  ...                 3   \n",
       "\n",
       "   Cleanliness  Departure Delay in Minutes  Arrival Delay in Minutes  \\\n",
       "0            5                          25                      18.0   \n",
       "1            1                           1                       6.0   \n",
       "2            5                           0                       0.0   \n",
       "3            2                          11                       9.0   \n",
       "4            3                           0                       0.0   \n",
       "\n",
       "   satisfaction  Gender_Male  Customer Type_disloyal Customer  \\\n",
       "0             0            1                                0   \n",
       "1             0            1                                1   \n",
       "2             1            0                                0   \n",
       "3             0            0                                0   \n",
       "4             1            1                                0   \n",
       "\n",
       "   Type of Travel_Personal Travel  Class_Eco  Class_Eco Plus  \n",
       "0                               1          0               1  \n",
       "1                               0          0               0  \n",
       "2                               0          0               0  \n",
       "3                               0          0               0  \n",
       "4                               0          0               0  \n",
       "\n",
       "[5 rows x 25 columns]"
      ]
     },
     "execution_count": 63,
     "metadata": {},
     "output_type": "execute_result"
    }
   ],
   "source": [
    "train.head()"
   ]
  },
  {
   "cell_type": "code",
   "execution_count": 64,
   "id": "69ad4005",
   "metadata": {},
   "outputs": [
    {
     "data": {
      "text/plain": [
       "id                                     int64\n",
       "Age                                    int64\n",
       "Flight Distance                        int64\n",
       "Inflight wifi service                  int64\n",
       "Departure/Arrival time convenient      int64\n",
       "Ease of Online booking                 int64\n",
       "Gate location                          int64\n",
       "Food and drink                         int64\n",
       "Online boarding                        int64\n",
       "Seat comfort                           int64\n",
       "Inflight entertainment                 int64\n",
       "On-board service                       int64\n",
       "Leg room service                       int64\n",
       "Baggage handling                       int64\n",
       "Checkin service                        int64\n",
       "Inflight service                       int64\n",
       "Cleanliness                            int64\n",
       "Departure Delay in Minutes             int64\n",
       "Arrival Delay in Minutes             float64\n",
       "satisfaction                           int64\n",
       "Gender_Male                            uint8\n",
       "Customer Type_disloyal Customer        uint8\n",
       "Type of Travel_Personal Travel         uint8\n",
       "Class_Eco                              uint8\n",
       "Class_Eco Plus                         uint8\n",
       "dtype: object"
      ]
     },
     "execution_count": 64,
     "metadata": {},
     "output_type": "execute_result"
    }
   ],
   "source": [
    "train.dtypes"
   ]
  },
  {
   "cell_type": "markdown",
   "id": "0a30bc2a",
   "metadata": {},
   "source": [
    "## Model Building"
   ]
  },
  {
   "cell_type": "code",
   "execution_count": 65,
   "id": "937d61d0",
   "metadata": {},
   "outputs": [],
   "source": [
    "# Importing Libraries\n",
    "from sklearn.model_selection import train_test_split\n",
    "from sklearn.tree import DecisionTreeClassifier\n",
    "from sklearn.metrics import accuracy_score, classification_report, confusion_matrix"
   ]
  },
  {
   "cell_type": "code",
   "execution_count": 66,
   "id": "3eda0183",
   "metadata": {},
   "outputs": [],
   "source": [
    "# Define independent variables (X) and the target variable (y)\n",
    "X = train.drop(['id', 'satisfaction'], axis=1)\n",
    "y = train['satisfaction']"
   ]
  },
  {
   "cell_type": "code",
   "execution_count": 67,
   "id": "a309bd6f",
   "metadata": {},
   "outputs": [],
   "source": [
    "# Split the dataset into training and testing sets with stratification\n",
    "X_train, X_test, y_train, y_test = train_test_split(X, y, test_size=0.2, random_state=42, stratify=y)"
   ]
  },
  {
   "cell_type": "code",
   "execution_count": 68,
   "id": "983a5f63",
   "metadata": {},
   "outputs": [],
   "source": [
    "# Initialize the Decision Tree Classifier\n",
    "model = DecisionTreeClassifier(random_state=42)"
   ]
  },
  {
   "cell_type": "code",
   "execution_count": 69,
   "id": "d480d849",
   "metadata": {},
   "outputs": [
    {
     "data": {
      "text/plain": [
       "DecisionTreeClassifier(random_state=42)"
      ]
     },
     "execution_count": 69,
     "metadata": {},
     "output_type": "execute_result"
    }
   ],
   "source": [
    "# Fit the model on the training data\n",
    "model.fit(X_train, y_train)"
   ]
  },
  {
   "cell_type": "code",
   "execution_count": 70,
   "id": "e9ca65de",
   "metadata": {},
   "outputs": [],
   "source": [
    "# Make predictions on the test set\n",
    "y_pred = model.predict(X_test)"
   ]
  },
  {
   "cell_type": "code",
   "execution_count": 71,
   "id": "3e301b38",
   "metadata": {},
   "outputs": [],
   "source": [
    "# Evaluate the model\n",
    "accuracy = accuracy_score(y_test, y_pred)\n",
    "conf_matrix = confusion_matrix(y_test, y_pred)\n",
    "class_report = classification_report(y_test, y_pred)"
   ]
  },
  {
   "cell_type": "code",
   "execution_count": 72,
   "id": "19f89ae8",
   "metadata": {},
   "outputs": [
    {
     "name": "stdout",
     "output_type": "stream",
     "text": [
      "Accuracy: 0.94\n"
     ]
    }
   ],
   "source": [
    "# Print the evaluation metrics\n",
    "print(f\"Accuracy: {accuracy:.2f}\")"
   ]
  },
  {
   "cell_type": "code",
   "execution_count": 73,
   "id": "7e049d2b",
   "metadata": {},
   "outputs": [
    {
     "name": "stdout",
     "output_type": "stream",
     "text": [
      "Confusion Matrix:\n",
      " [[11156   620]\n",
      " [  543  8462]]\n"
     ]
    }
   ],
   "source": [
    "# Prinitng Confusion Matrix\n",
    "print(\"Confusion Matrix:\\n\", conf_matrix)"
   ]
  },
  {
   "cell_type": "code",
   "execution_count": 74,
   "id": "0e99e14f",
   "metadata": {},
   "outputs": [
    {
     "data": {
      "image/png": "[encoded data removed]",
      "text/plain": [
       "<Figure size 576x432 with 2 Axes>"
      ]
     },
     "metadata": {
      "needs_background": "light"
     },
     "output_type": "display_data"
    }
   ],
   "source": [
    "# Plot confusion matrix using seaborn heatmap\n",
    "plt.figure(figsize=(8, 6))\n",
    "sns.heatmap(conf_matrix, annot=True, fmt=\"d\", cmap=\"Blues\", xticklabels=[\"Dissatisfied\", \"Satisfied\"], yticklabels=[\"Dissatisfied\", \"Satisfied\"])\n",
    "plt.xlabel('Predicted')\n",
    "plt.ylabel('True')\n",
    "plt.title('Confusion Matrix')\n",
    "plt.show()"
   ]
  },
  {
   "cell_type": "code",
   "execution_count": 75,
   "id": "7b5f4429",
   "metadata": {},
   "outputs": [
    {
     "name": "stdout",
     "output_type": "stream",
     "text": [
      "Classification Report:\n",
      "               precision    recall  f1-score   support\n",
      "\n",
      "           0       0.95      0.95      0.95     11776\n",
      "           1       0.93      0.94      0.94      9005\n",
      "\n",
      "    accuracy                           0.94     20781\n",
      "   macro avg       0.94      0.94      0.94     20781\n",
      "weighted avg       0.94      0.94      0.94     20781\n",
      "\n"
     ]
    }
   ],
   "source": [
    "# Printing Classification Report\n",
    "print(\"Classification Report:\\n\", class_report)"
   ]
  },
  {
   "cell_type": "code",
   "execution_count": 78,
   "id": "6fc9f3ab",
   "metadata": {},
   "outputs": [
    {
     "data": {
      "image/png": "[encoded data removed]",
      "text/plain": [
       "<Figure size 1800x720 with 1 Axes>"
      ]
     },
     "metadata": {
      "needs_background": "light"
     },
     "output_type": "display_data"
    }
   ],
   "source": [
    "# Plot the decision tree\n",
    "from sklearn.tree import plot_tree\n",
    "plt.figure(figsize=(25, 10))\n",
    "plot_tree(model, filled=True, feature_names=X.columns, class_names=['Dissatisfied', 'Satisfied'], rounded=True, fontsize=10, max_depth=3, precision=2)\n",
    "plt.show()"
   ]
  },
  {
   "cell_type": "code",
   "execution_count": 81,
   "id": "7b3e8105",
   "metadata": {},
   "outputs": [
    {
     "name": "stdout",
     "output_type": "stream",
     "text": [
      "|--- Online boarding <= 3.50\n",
      "|   |--- Inflight wifi service <= 0.50\n",
      "|   |   |--- Inflight entertainment <= 0.50\n",
      "|   |   |   |--- class: 0\n",
      "|   |   |--- Inflight entertainment >  0.50\n",
      "|   |   |   |--- class: 1\n",
      "|   |--- Inflight wifi service >  0.50\n",
      "|   |   |--- Inflight wifi service <= 3.50\n",
      "|   |   |   |--- Class_Eco <= 0.50\n",
      "|   |   |   |   |--- Inflight entertainment <= 3.50\n",
      "|   |   |   |   |   |--- Cleanliness <= 4.50\n",
      "|   |   |   |   |   |   |--- Gate location <= 3.50\n",
      "|   |   |   |   |   |   |   |--- Flight Distance <= 1498.00\n",
      "|   |   |   |   |   |   |   |   |--- Type of Travel_Personal Travel <= 0.50\n",
      "|   |   |   |   |   |   |   |   |   |--- Customer Type_disloyal Customer <= 0.50\n",
      "|   |   |   |   |   |   |   |   |   |   |--- Inflight service <= 4.50\n",
      "|   |   |   |   |   |   |   |   |   |   |   |--- truncated branch of depth 23\n",
      "|   |   |   |   |   |   |   |   |   |   |--- Inflight service >  4.50\n",
      "|   |   |   |   |   |   |   |   |   |   |   |--- class: 1\n",
      "|   |   |   |   |   |   |   |   |   |--- Customer Type_disloyal Customer >  0.50\n",
      "|   |   |   |   |   |   |   |   |   |   |--- Age <= 37.50\n",
      "|   |   |   |   |   |   |   |   |   |   |   |--- class: 0\n",
      "|   |   |   |   |   |   |   |   |   |   |--- Age >  37.50\n",
      "|   |   |   |   |   |   |   |   |   |   |   |--- truncated branch of depth 10\n",
      "|   |   |   |   |   |   |   |   |--- Type of Travel_Personal Travel >  0.50\n",
      "|   |   |   |   |   |   |   |   |   |--- class: 0\n",
      "|   |   |   |   |   |   |   |--- Flight Distance >  1498.00\n",
      "|   |   |   |   |   |   |   |   |--- Baggage handling <= 4.50\n",
      "|   |   |   |   |   |   |   |   |   |--- Checkin service <= 4.50\n",
      "|   |   |   |   |   |   |   |   |   |   |--- Seat comfort <= 4.50\n",
      "|   |   |   |   |   |   |   |   |   |   |   |--- truncated branch of depth 22\n",
      "|   |   |   |   |   |   |   |   |   |   |--- Seat comfort >  4.50\n",
      "|   |   |   |   |   |   |   |   |   |   |   |--- truncated branch of depth 4\n",
      "|   |   |   |   |   |   |   |   |   |--- Checkin service >  4.50\n",
      "|   |   |   |   |   |   |   |   |   |   |--- Customer Type_disloyal Customer <= 0.50\n",
      "|   |   |   |   |   |   |   |   |   |   |   |--- truncated branch of depth 2\n",
      "|   |   |   |   |   |   |   |   |   |   |--- Customer Type_disloyal Customer >  0.50\n",
      "|   |   |   |   |   |   |   |   |   |   |   |--- class: 0\n",
      "|   |   |   |   |   |   |   |   |--- Baggage handling >  4.50\n",
      "|   |   |   |   |   |   |   |   |   |--- Customer Type_disloyal Customer <= 0.50\n",
      "|   |   |   |   |   |   |   |   |   |   |--- Type of Travel_Personal Travel <= 0.50\n",
      "|   |   |   |   |   |   |   |   |   |   |   |--- class: 1\n",
      "|   |   |   |   |   |   |   |   |   |   |--- Type of Travel_Personal Travel >  0.50\n",
      "|   |   |   |   |   |   |   |   |   |   |   |--- class: 0\n",
      "|   |   |   |   |   |   |   |   |   |--- Customer Type_disloyal Customer >  0.50\n",
      "|   |   |   |   |   |   |   |   |   |   |--- Age <= 42.50\n",
      "|   |   |   |   |   |   |   |   |   |   |   |--- class: 0\n",
      "|   |   |   |   |   |   |   |   |   |   |--- Age >  42.50\n",
      "|   |   |   |   |   |   |   |   |   |   |   |--- truncated branch of depth 3\n",
      "|   |   |   |   |   |   |--- Gate location >  3.50\n",
      "|   |   |   |   |   |   |   |--- Flight Distance <= 4973.00\n",
      "|   |   |   |   |   |   |   |   |--- Class_Eco Plus <= 0.50\n",
      "|   |   |   |   |   |   |   |   |   |--- Customer Type_disloyal Customer <= 0.50\n",
      "|   |   |   |   |   |   |   |   |   |   |--- class: 0\n",
      "|   |   |   |   |   |   |   |   |   |--- Customer Type_disloyal Customer >  0.50\n",
      "|   |   |   |   |   |   |   |   |   |   |--- Arrival Delay in Minutes <= 227.00\n",
      "|   |   |   |   |   |   |   |   |   |   |   |--- truncated branch of depth 10\n",
      "|   |   |   |   |   |   |   |   |   |   |--- Arrival Delay in Minutes >  227.00\n",
      "|   |   |   |   |   |   |   |   |   |   |   |--- class: 1\n",
      "|   |   |   |   |   |   |   |   |--- Class_Eco Plus >  0.50\n",
      "|   |   |   |   |   |   |   |   |   |--- Inflight service <= 2.50\n",
      "|   |   |   |   |   |   |   |   |   |   |--- Flight Distance <= 114.50\n",
      "|   |   |   |   |   |   |   |   |   |   |   |--- truncated branch of depth 2\n",
      "|   |   |   |   |   |   |   |   |   |   |--- Flight Distance >  114.50\n",
      "|   |   |   |   |   |   |   |   |   |   |   |--- truncated branch of depth 7\n",
      "|   |   |   |   |   |   |   |   |   |--- Inflight service >  2.50\n",
      "|   |   |   |   |   |   |   |   |   |   |--- Age <= 38.50\n",
      "|   |   |   |   |   |   |   |   |   |   |   |--- truncated branch of depth 5\n",
      "|   |   |   |   |   |   |   |   |   |   |--- Age >  38.50\n",
      "|   |   |   |   |   |   |   |   |   |   |   |--- truncated branch of depth 14\n",
      "|   |   |   |   |   |   |   |--- Flight Distance >  4973.00\n",
      "|   |   |   |   |   |   |   |   |--- class: 1\n",
      "|   |   |   |   |   |--- Cleanliness >  4.50\n",
      "|   |   |   |   |   |   |--- Type of Travel_Personal Travel <= 0.50\n",
      "|   |   |   |   |   |   |   |--- Customer Type_disloyal Customer <= 0.50\n",
      "|   |   |   |   |   |   |   |   |--- Flight Distance <= 3872.00\n",
      "|   |   |   |   |   |   |   |   |   |--- class: 1\n",
      "|   |   |   |   |   |   |   |   |--- Flight Distance >  3872.00\n",
      "|   |   |   |   |   |   |   |   |   |--- class: 0\n",
      "|   |   |   |   |   |   |   |--- Customer Type_disloyal Customer >  0.50\n",
      "|   |   |   |   |   |   |   |   |--- class: 0\n",
      "|   |   |   |   |   |   |--- Type of Travel_Personal Travel >  0.50\n",
      "|   |   |   |   |   |   |   |--- class: 0\n",
      "|   |   |   |   |--- Inflight entertainment >  3.50\n",
      "|   |   |   |   |   |--- Leg room service <= 3.50\n",
      "|   |   |   |   |   |   |--- Flight Distance <= 2455.50\n",
      "|   |   |   |   |   |   |   |--- Type of Travel_Personal Travel <= 0.50\n",
      "|   |   |   |   |   |   |   |   |--- Age <= 36.50\n",
      "|   |   |   |   |   |   |   |   |   |--- Customer Type_disloyal Customer <= 0.50\n",
      "|   |   |   |   |   |   |   |   |   |   |--- Baggage handling <= 4.50\n",
      "|   |   |   |   |   |   |   |   |   |   |   |--- truncated branch of depth 3\n",
      "|   |   |   |   |   |   |   |   |   |   |--- Baggage handling >  4.50\n",
      "|   |   |   |   |   |   |   |   |   |   |   |--- class: 1\n",
      "|   |   |   |   |   |   |   |   |   |--- Customer Type_disloyal Customer >  0.50\n",
      "|   |   |   |   |   |   |   |   |   |   |--- class: 0\n",
      "|   |   |   |   |   |   |   |   |--- Age >  36.50\n",
      "|   |   |   |   |   |   |   |   |   |--- Leg room service <= 2.50\n",
      "|   |   |   |   |   |   |   |   |   |   |--- Seat comfort <= 4.50\n",
      "|   |   |   |   |   |   |   |   |   |   |   |--- truncated branch of depth 6\n",
      "|   |   |   |   |   |   |   |   |   |   |--- Seat comfort >  4.50\n",
      "|   |   |   |   |   |   |   |   |   |   |   |--- truncated branch of depth 10\n",
      "|   |   |   |   |   |   |   |   |   |--- Leg room service >  2.50\n",
      "|   |   |   |   |   |   |   |   |   |   |--- Gate location <= 1.50\n",
      "|   |   |   |   |   |   |   |   |   |   |   |--- truncated branch of depth 6\n",
      "|   |   |   |   |   |   |   |   |   |   |--- Gate location >  1.50\n",
      "|   |   |   |   |   |   |   |   |   |   |   |--- truncated branch of depth 14\n",
      "|   |   |   |   |   |   |   |--- Type of Travel_Personal Travel >  0.50\n",
      "|   |   |   |   |   |   |   |   |--- class: 0\n",
      "|   |   |   |   |   |   |--- Flight Distance >  2455.50\n",
      "|   |   |   |   |   |   |   |--- Baggage handling <= 3.50\n",
      "|   |   |   |   |   |   |   |   |--- Departure Delay in Minutes <= 96.50\n",
      "|   |   |   |   |   |   |   |   |   |--- class: 0\n",
      "|   |   |   |   |   |   |   |   |--- Departure Delay in Minutes >  96.50\n",
      "|   |   |   |   |   |   |   |   |   |--- Ease of Online booking <= 3.50\n",
      "|   |   |   |   |   |   |   |   |   |   |--- Baggage handling <= 2.50\n",
      "|   |   |   |   |   |   |   |   |   |   |   |--- class: 1\n",
      "|   |   |   |   |   |   |   |   |   |   |--- Baggage handling >  2.50\n",
      "|   |   |   |   |   |   |   |   |   |   |   |--- truncated branch of depth 2\n",
      "|   |   |   |   |   |   |   |   |   |--- Ease of Online booking >  3.50\n",
      "|   |   |   |   |   |   |   |   |   |   |--- class: 0\n",
      "|   |   |   |   |   |   |   |--- Baggage handling >  3.50\n",
      "|   |   |   |   |   |   |   |   |--- Gate location <= 1.50\n",
      "|   |   |   |   |   |   |   |   |   |--- class: 1\n",
      "|   |   |   |   |   |   |   |   |--- Gate location >  1.50\n",
      "|   |   |   |   |   |   |   |   |   |--- Flight Distance <= 3822.00\n",
      "|   |   |   |   |   |   |   |   |   |   |--- Inflight entertainment <= 4.50\n",
      "|   |   |   |   |   |   |   |   |   |   |   |--- truncated branch of depth 3\n",
      "|   |   |   |   |   |   |   |   |   |   |--- Inflight entertainment >  4.50\n",
      "|   |   |   |   |   |   |   |   |   |   |   |--- class: 0\n",
      "|   |   |   |   |   |   |   |   |   |--- Flight Distance >  3822.00\n",
      "|   |   |   |   |   |   |   |   |   |   |--- class: 1\n",
      "|   |   |   |   |   |--- Leg room service >  3.50\n",
      "|   |   |   |   |   |   |--- Customer Type_disloyal Customer <= 0.50\n",
      "|   |   |   |   |   |   |   |--- Type of Travel_Personal Travel <= 0.50\n",
      "|   |   |   |   |   |   |   |   |--- Gate location <= 3.50\n",
      "|   |   |   |   |   |   |   |   |   |--- Baggage handling <= 2.50\n",
      "|   |   |   |   |   |   |   |   |   |   |--- Leg room service <= 4.50\n",
      "|   |   |   |   |   |   |   |   |   |   |   |--- truncated branch of depth 2\n",
      "|   |   |   |   |   |   |   |   |   |   |--- Leg room service >  4.50\n",
      "|   |   |   |   |   |   |   |   |   |   |   |--- class: 1\n",
      "|   |   |   |   |   |   |   |   |   |--- Baggage handling >  2.50\n",
      "|   |   |   |   |   |   |   |   |   |   |--- Inflight service <= 3.50\n",
      "|   |   |   |   |   |   |   |   |   |   |   |--- truncated branch of depth 6\n",
      "|   |   |   |   |   |   |   |   |   |   |--- Inflight service >  3.50\n",
      "|   |   |   |   |   |   |   |   |   |   |   |--- truncated branch of depth 7\n",
      "|   |   |   |   |   |   |   |   |--- Gate location >  3.50\n",
      "|   |   |   |   |   |   |   |   |   |--- class: 0\n",
      "|   |   |   |   |   |   |   |--- Type of Travel_Personal Travel >  0.50\n",
      "|   |   |   |   |   |   |   |   |--- class: 0\n",
      "|   |   |   |   |   |   |--- Customer Type_disloyal Customer >  0.50\n",
      "|   |   |   |   |   |   |   |--- Age <= 43.50\n",
      "|   |   |   |   |   |   |   |   |--- Age <= 36.50\n",
      "|   |   |   |   |   |   |   |   |   |--- class: 0\n",
      "|   |   |   |   |   |   |   |   |--- Age >  36.50\n",
      "|   |   |   |   |   |   |   |   |   |--- Flight Distance <= 594.50\n",
      "|   |   |   |   |   |   |   |   |   |   |--- Flight Distance <= 579.50\n",
      "|   |   |   |   |   |   |   |   |   |   |   |--- truncated branch of depth 8\n",
      "|   |   |   |   |   |   |   |   |   |   |--- Flight Distance >  579.50\n",
      "|   |   |   |   |   |   |   |   |   |   |   |--- truncated branch of depth 2\n",
      "|   |   |   |   |   |   |   |   |   |--- Flight Distance >  594.50\n",
      "|   |   |   |   |   |   |   |   |   |   |--- class: 0\n",
      "|   |   |   |   |   |   |   |--- Age >  43.50\n",
      "|   |   |   |   |   |   |   |   |--- Inflight wifi service <= 2.50\n",
      "|   |   |   |   |   |   |   |   |   |--- Age <= 64.50\n",
      "|   |   |   |   |   |   |   |   |   |   |--- Flight Distance <= 1074.00\n",
      "|   |   |   |   |   |   |   |   |   |   |   |--- class: 0\n",
      "|   |   |   |   |   |   |   |   |   |   |--- Flight Distance >  1074.00\n",
      "|   |   |   |   |   |   |   |   |   |   |   |--- truncated branch of depth 2\n",
      "|   |   |   |   |   |   |   |   |   |--- Age >  64.50\n",
      "|   |   |   |   |   |   |   |   |   |   |--- Flight Distance <= 277.00\n",
      "|   |   |   |   |   |   |   |   |   |   |   |--- class: 1\n",
      "|   |   |   |   |   |   |   |   |   |   |--- Flight Distance >  277.00\n",
      "|   |   |   |   |   |   |   |   |   |   |   |--- class: 0\n",
      "|   |   |   |   |   |   |   |   |--- Inflight wifi service >  2.50\n",
      "|   |   |   |   |   |   |   |   |   |--- Gate location <= 3.50\n",
      "|   |   |   |   |   |   |   |   |   |   |--- Arrival Delay in Minutes <= 37.50\n",
      "|   |   |   |   |   |   |   |   |   |   |   |--- truncated branch of depth 4\n",
      "|   |   |   |   |   |   |   |   |   |   |--- Arrival Delay in Minutes >  37.50\n",
      "|   |   |   |   |   |   |   |   |   |   |   |--- truncated branch of depth 2\n",
      "|   |   |   |   |   |   |   |   |   |--- Gate location >  3.50\n",
      "|   |   |   |   |   |   |   |   |   |   |--- Arrival Delay in Minutes <= 7.00\n",
      "|   |   |   |   |   |   |   |   |   |   |   |--- truncated branch of depth 4\n",
      "|   |   |   |   |   |   |   |   |   |   |--- Arrival Delay in Minutes >  7.00\n",
      "|   |   |   |   |   |   |   |   |   |   |   |--- class: 0\n",
      "|   |   |   |--- Class_Eco >  0.50\n",
      "|   |   |   |   |--- Ease of Online booking <= 3.50\n",
      "|   |   |   |   |   |--- Type of Travel_Personal Travel <= 0.50\n",
      "|   |   |   |   |   |   |--- Customer Type_disloyal Customer <= 0.50\n",
      "|   |   |   |   |   |   |   |--- Checkin service <= 4.50\n",
      "|   |   |   |   |   |   |   |   |--- Baggage handling <= 4.50\n",
      "|   |   |   |   |   |   |   |   |   |--- Inflight service <= 4.50\n",
      "|   |   |   |   |   |   |   |   |   |   |--- On-board service <= 4.50\n",
      "|   |   |   |   |   |   |   |   |   |   |   |--- truncated branch of depth 20\n",
      "|   |   |   |   |   |   |   |   |   |   |--- On-board service >  4.50\n",
      "|   |   |   |   |   |   |   |   |   |   |   |--- truncated branch of depth 5\n",
      "|   |   |   |   |   |   |   |   |   |--- Inflight service >  4.50\n",
      "|   |   |   |   |   |   |   |   |   |   |--- Food and drink <= 2.50\n",
      "|   |   |   |   |   |   |   |   |   |   |   |--- class: 1\n",
      "|   |   |   |   |   |   |   |   |   |   |--- Food and drink >  2.50\n",
      "|   |   |   |   |   |   |   |   |   |   |   |--- truncated branch of depth 2\n",
      "|   |   |   |   |   |   |   |   |--- Baggage handling >  4.50\n",
      "|   |   |   |   |   |   |   |   |   |--- Departure/Arrival time convenient <= 0.50\n",
      "|   |   |   |   |   |   |   |   |   |   |--- class: 0\n",
      "|   |   |   |   |   |   |   |   |   |--- Departure/Arrival time convenient >  0.50\n",
      "|   |   |   |   |   |   |   |   |   |   |--- class: 1\n",
      "|   |   |   |   |   |   |   |--- Checkin service >  4.50\n",
      "|   |   |   |   |   |   |   |   |--- Flight Distance <= 1410.50\n",
      "|   |   |   |   |   |   |   |   |   |--- class: 1\n",
      "|   |   |   |   |   |   |   |   |--- Flight Distance >  1410.50\n",
      "|   |   |   |   |   |   |   |   |   |--- Flight Distance <= 1545.50\n",
      "|   |   |   |   |   |   |   |   |   |   |--- class: 0\n",
      "|   |   |   |   |   |   |   |   |   |--- Flight Distance >  1545.50\n",
      "|   |   |   |   |   |   |   |   |   |   |--- class: 1\n",
      "|   |   |   |   |   |   |--- Customer Type_disloyal Customer >  0.50\n",
      "|   |   |   |   |   |   |   |--- Flight Distance <= 966.50\n",
      "|   |   |   |   |   |   |   |   |--- Flight Distance <= 934.50\n",
      "|   |   |   |   |   |   |   |   |   |--- class: 0\n",
      "|   |   |   |   |   |   |   |   |--- Flight Distance >  934.50\n",
      "|   |   |   |   |   |   |   |   |   |--- Flight Distance <= 935.50\n",
      "|   |   |   |   |   |   |   |   |   |   |--- Age <= 15.00\n",
      "|   |   |   |   |   |   |   |   |   |   |   |--- class: 0\n",
      "|   |   |   |   |   |   |   |   |   |   |--- Age >  15.00\n",
      "|   |   |   |   |   |   |   |   |   |   |   |--- class: 1\n",
      "|   |   |   |   |   |   |   |   |   |--- Flight Distance >  935.50\n",
      "|   |   |   |   |   |   |   |   |   |   |--- class: 0\n",
      "|   |   |   |   |   |   |   |--- Flight Distance >  966.50\n",
      "|   |   |   |   |   |   |   |   |--- Baggage handling <= 4.50\n",
      "|   |   |   |   |   |   |   |   |   |--- Checkin service <= 3.50\n",
      "|   |   |   |   |   |   |   |   |   |   |--- On-board service <= 4.50\n",
      "|   |   |   |   |   |   |   |   |   |   |   |--- truncated branch of depth 7\n",
      "|   |   |   |   |   |   |   |   |   |   |--- On-board service >  4.50\n",
      "|   |   |   |   |   |   |   |   |   |   |   |--- truncated branch of depth 5\n",
      "|   |   |   |   |   |   |   |   |   |--- Checkin service >  3.50\n",
      "|   |   |   |   |   |   |   |   |   |   |--- Gate location <= 1.50\n",
      "|   |   |   |   |   |   |   |   |   |   |   |--- truncated branch of depth 6\n",
      "|   |   |   |   |   |   |   |   |   |   |--- Gate location >  1.50\n",
      "|   |   |   |   |   |   |   |   |   |   |   |--- truncated branch of depth 11\n",
      "|   |   |   |   |   |   |   |   |--- Baggage handling >  4.50\n",
      "|   |   |   |   |   |   |   |   |   |--- Departure Delay in Minutes <= 177.00\n",
      "|   |   |   |   |   |   |   |   |   |   |--- Age <= 23.50\n",
      "|   |   |   |   |   |   |   |   |   |   |   |--- truncated branch of depth 10\n",
      "|   |   |   |   |   |   |   |   |   |   |--- Age >  23.50\n",
      "|   |   |   |   |   |   |   |   |   |   |   |--- truncated branch of depth 5\n",
      "|   |   |   |   |   |   |   |   |   |--- Departure Delay in Minutes >  177.00\n",
      "|   |   |   |   |   |   |   |   |   |   |--- class: 1\n",
      "|   |   |   |   |   |--- Type of Travel_Personal Travel >  0.50\n",
      "|   |   |   |   |   |   |--- class: 0\n",
      "|   |   |   |   |--- Ease of Online booking >  3.50\n",
      "|   |   |   |   |   |--- Checkin service <= 4.50\n",
      "|   |   |   |   |   |   |--- Baggage handling <= 4.50\n",
      "|   |   |   |   |   |   |   |--- Inflight service <= 4.50\n",
      "|   |   |   |   |   |   |   |   |--- Inflight service <= 1.50\n",
      "|   |   |   |   |   |   |   |   |   |--- Inflight entertainment <= 1.50\n",
      "|   |   |   |   |   |   |   |   |   |   |--- Flight Distance <= 99.00\n",
      "|   |   |   |   |   |   |   |   |   |   |   |--- class: 1\n",
      "|   |   |   |   |   |   |   |   |   |   |--- Flight Distance >  99.00\n",
      "|   |   |   |   |   |   |   |   |   |   |   |--- class: 0\n",
      "|   |   |   |   |   |   |   |   |   |--- Inflight entertainment >  1.50\n",
      "|   |   |   |   |   |   |   |   |   |   |--- Arrival Delay in Minutes <= 2.00\n",
      "|   |   |   |   |   |   |   |   |   |   |   |--- truncated branch of depth 7\n",
      "|   |   |   |   |   |   |   |   |   |   |--- Arrival Delay in Minutes >  2.00\n",
      "|   |   |   |   |   |   |   |   |   |   |   |--- truncated branch of depth 4\n",
      "|   |   |   |   |   |   |   |   |--- Inflight service >  1.50\n",
      "|   |   |   |   |   |   |   |   |   |--- Cleanliness <= 4.50\n",
      "|   |   |   |   |   |   |   |   |   |   |--- Seat comfort <= 4.50\n",
      "|   |   |   |   |   |   |   |   |   |   |   |--- truncated branch of depth 18\n",
      "|   |   |   |   |   |   |   |   |   |   |--- Seat comfort >  4.50\n",
      "|   |   |   |   |   |   |   |   |   |   |   |--- class: 1\n",
      "|   |   |   |   |   |   |   |   |   |--- Cleanliness >  4.50\n",
      "|   |   |   |   |   |   |   |   |   |   |--- Type of Travel_Personal Travel <= 0.50\n",
      "|   |   |   |   |   |   |   |   |   |   |   |--- truncated branch of depth 2\n",
      "|   |   |   |   |   |   |   |   |   |   |--- Type of Travel_Personal Travel >  0.50\n",
      "|   |   |   |   |   |   |   |   |   |   |   |--- class: 0\n",
      "|   |   |   |   |   |   |   |--- Inflight service >  4.50\n",
      "|   |   |   |   |   |   |   |   |--- Customer Type_disloyal Customer <= 0.50\n",
      "|   |   |   |   |   |   |   |   |   |--- class: 1\n",
      "|   |   |   |   |   |   |   |   |--- Customer Type_disloyal Customer >  0.50\n",
      "|   |   |   |   |   |   |   |   |   |--- class: 0\n",
      "|   |   |   |   |   |   |--- Baggage handling >  4.50\n",
      "|   |   |   |   |   |   |   |--- Type of Travel_Personal Travel <= 0.50\n",
      "|   |   |   |   |   |   |   |   |--- class: 1\n",
      "|   |   |   |   |   |   |   |--- Type of Travel_Personal Travel >  0.50\n",
      "|   |   |   |   |   |   |   |   |--- class: 0\n",
      "|   |   |   |   |   |--- Checkin service >  4.50\n",
      "|   |   |   |   |   |   |--- Inflight entertainment <= 4.00\n",
      "|   |   |   |   |   |   |   |--- Departure Delay in Minutes <= 132.50\n",
      "|   |   |   |   |   |   |   |   |--- class: 1\n",
      "|   |   |   |   |   |   |   |--- Departure Delay in Minutes >  132.50\n",
      "|   |   |   |   |   |   |   |   |--- class: 0\n",
      "|   |   |   |   |   |   |--- Inflight entertainment >  4.00\n",
      "|   |   |   |   |   |   |   |--- class: 0\n",
      "|   |   |--- Inflight wifi service >  3.50\n",
      "|   |   |   |--- Inflight wifi service <= 4.50\n",
      "|   |   |   |   |--- Gate location <= 3.50\n",
      "|   |   |   |   |   |--- Flight Distance <= 1319.00\n",
      "|   |   |   |   |   |   |--- Inflight service <= 3.50\n",
      "|   |   |   |   |   |   |   |--- Checkin service <= 4.50\n",
      "|   |   |   |   |   |   |   |   |--- On-board service <= 1.50\n",
      "|   |   |   |   |   |   |   |   |   |--- Inflight entertainment <= 4.50\n",
      "|   |   |   |   |   |   |   |   |   |   |--- Baggage handling <= 1.50\n",
      "|   |   |   |   |   |   |   |   |   |   |   |--- truncated branch of depth 4\n",
      "|   |   |   |   |   |   |   |   |   |   |--- Baggage handling >  1.50\n",
      "|   |   |   |   |   |   |   |   |   |   |   |--- class: 0\n",
      "|   |   |   |   |   |   |   |   |   |--- Inflight entertainment >  4.50\n",
      "|   |   |   |   |   |   |   |   |   |   |--- Leg room service <= 1.50\n",
      "|   |   |   |   |   |   |   |   |   |   |   |--- truncated branch of depth 2\n",
      "|   |   |   |   |   |   |   |   |   |   |--- Leg room service >  1.50\n",
      "|   |   |   |   |   |   |   |   |   |   |   |--- class: 0\n",
      "|   |   |   |   |   |   |   |   |--- On-board service >  1.50\n",
      "|   |   |   |   |   |   |   |   |   |--- Arrival Delay in Minutes <= 6.50\n",
      "|   |   |   |   |   |   |   |   |   |   |--- Online boarding <= 2.50\n",
      "|   |   |   |   |   |   |   |   |   |   |   |--- truncated branch of depth 8\n",
      "|   |   |   |   |   |   |   |   |   |   |--- Online boarding >  2.50\n",
      "|   |   |   |   |   |   |   |   |   |   |   |--- truncated branch of depth 12\n",
      "|   |   |   |   |   |   |   |   |   |--- Arrival Delay in Minutes >  6.50\n",
      "|   |   |   |   |   |   |   |   |   |   |--- Flight Distance <= 591.00\n",
      "|   |   |   |   |   |   |   |   |   |   |   |--- class: 0\n",
      "|   |   |   |   |   |   |   |   |   |   |--- Flight Distance >  591.00\n",
      "|   |   |   |   |   |   |   |   |   |   |   |--- truncated branch of depth 7\n",
      "|   |   |   |   |   |   |   |--- Checkin service >  4.50\n",
      "|   |   |   |   |   |   |   |   |--- Departure Delay in Minutes <= 4.00\n",
      "|   |   |   |   |   |   |   |   |   |--- Departure/Arrival time convenient <= 4.50\n",
      "|   |   |   |   |   |   |   |   |   |   |--- class: 1\n",
      "|   |   |   |   |   |   |   |   |   |--- Departure/Arrival time convenient >  4.50\n",
      "|   |   |   |   |   |   |   |   |   |   |--- Online boarding <= 2.50\n",
      "|   |   |   |   |   |   |   |   |   |   |   |--- class: 1\n",
      "|   |   |   |   |   |   |   |   |   |   |--- Online boarding >  2.50\n",
      "|   |   |   |   |   |   |   |   |   |   |   |--- class: 0\n",
      "|   |   |   |   |   |   |   |   |--- Departure Delay in Minutes >  4.00\n",
      "|   |   |   |   |   |   |   |   |   |--- Arrival Delay in Minutes <= 25.50\n",
      "|   |   |   |   |   |   |   |   |   |   |--- class: 0\n",
      "|   |   |   |   |   |   |   |   |   |--- Arrival Delay in Minutes >  25.50\n",
      "|   |   |   |   |   |   |   |   |   |   |--- Departure/Arrival time convenient <= 4.00\n",
      "|   |   |   |   |   |   |   |   |   |   |   |--- class: 1\n",
      "|   |   |   |   |   |   |   |   |   |   |--- Departure/Arrival time convenient >  4.00\n",
      "|   |   |   |   |   |   |   |   |   |   |   |--- class: 0\n",
      "|   |   |   |   |   |   |--- Inflight service >  3.50\n",
      "|   |   |   |   |   |   |   |--- Arrival Delay in Minutes <= 5.50\n",
      "|   |   |   |   |   |   |   |   |--- Type of Travel_Personal Travel <= 0.50\n",
      "|   |   |   |   |   |   |   |   |   |--- Class_Eco <= 0.50\n",
      "|   |   |   |   |   |   |   |   |   |   |--- Customer Type_disloyal Customer <= 0.50\n",
      "|   |   |   |   |   |   |   |   |   |   |   |--- truncated branch of depth 7\n",
      "|   |   |   |   |   |   |   |   |   |   |--- Customer Type_disloyal Customer >  0.50\n",
      "|   |   |   |   |   |   |   |   |   |   |   |--- truncated branch of depth 6\n",
      "|   |   |   |   |   |   |   |   |   |--- Class_Eco >  0.50\n",
      "|   |   |   |   |   |   |   |   |   |   |--- Online boarding <= 2.50\n",
      "|   |   |   |   |   |   |   |   |   |   |   |--- truncated branch of depth 7\n",
      "|   |   |   |   |   |   |   |   |   |   |--- Online boarding >  2.50\n",
      "|   |   |   |   |   |   |   |   |   |   |   |--- truncated branch of depth 13\n",
      "|   |   |   |   |   |   |   |   |--- Type of Travel_Personal Travel >  0.50\n",
      "|   |   |   |   |   |   |   |   |   |--- Flight Distance <= 1254.00\n",
      "|   |   |   |   |   |   |   |   |   |   |--- Flight Distance <= 289.50\n",
      "|   |   |   |   |   |   |   |   |   |   |   |--- truncated branch of depth 9\n",
      "|   |   |   |   |   |   |   |   |   |   |--- Flight Distance >  289.50\n",
      "|   |   |   |   |   |   |   |   |   |   |   |--- truncated branch of depth 10\n",
      "|   |   |   |   |   |   |   |   |   |--- Flight Distance >  1254.00\n",
      "|   |   |   |   |   |   |   |   |   |   |--- class: 1\n",
      "|   |   |   |   |   |   |   |--- Arrival Delay in Minutes >  5.50\n",
      "|   |   |   |   |   |   |   |   |--- Flight Distance <= 149.00\n",
      "|   |   |   |   |   |   |   |   |   |--- class: 1\n",
      "|   |   |   |   |   |   |   |   |--- Flight Distance >  149.00\n",
      "|   |   |   |   |   |   |   |   |   |--- Flight Distance <= 1269.00\n",
      "|   |   |   |   |   |   |   |   |   |   |--- Seat comfort <= 3.50\n",
      "|   |   |   |   |   |   |   |   |   |   |   |--- truncated branch of depth 11\n",
      "|   |   |   |   |   |   |   |   |   |   |--- Seat comfort >  3.50\n",
      "|   |   |   |   |   |   |   |   |   |   |   |--- truncated branch of depth 8\n",
      "|   |   |   |   |   |   |   |   |   |--- Flight Distance >  1269.00\n",
      "|   |   |   |   |   |   |   |   |   |   |--- class: 1\n",
      "|   |   |   |   |   |--- Flight Distance >  1319.00\n",
      "|   |   |   |   |   |   |--- Inflight service <= 4.50\n",
      "|   |   |   |   |   |   |   |--- Type of Travel_Personal Travel <= 0.50\n",
      "|   |   |   |   |   |   |   |   |--- Cleanliness <= 4.50\n",
      "|   |   |   |   |   |   |   |   |   |--- On-board service <= 4.50\n",
      "|   |   |   |   |   |   |   |   |   |   |--- Class_Eco <= 0.50\n",
      "|   |   |   |   |   |   |   |   |   |   |   |--- truncated branch of depth 4\n",
      "|   |   |   |   |   |   |   |   |   |   |--- Class_Eco >  0.50\n",
      "|   |   |   |   |   |   |   |   |   |   |   |--- truncated branch of depth 3\n",
      "|   |   |   |   |   |   |   |   |   |--- On-board service >  4.50\n",
      "|   |   |   |   |   |   |   |   |   |   |--- Inflight entertainment <= 3.50\n",
      "|   |   |   |   |   |   |   |   |   |   |   |--- class: 1\n",
      "|   |   |   |   |   |   |   |   |   |   |--- Inflight entertainment >  3.50\n",
      "|   |   |   |   |   |   |   |   |   |   |   |--- class: 0\n",
      "|   |   |   |   |   |   |   |   |--- Cleanliness >  4.50\n",
      "|   |   |   |   |   |   |   |   |   |--- class: 1\n",
      "|   |   |   |   |   |   |   |--- Type of Travel_Personal Travel >  0.50\n",
      "|   |   |   |   |   |   |   |   |--- Arrival Delay in Minutes <= 10.50\n",
      "|   |   |   |   |   |   |   |   |   |--- Leg room service <= 2.50\n",
      "|   |   |   |   |   |   |   |   |   |   |--- Gender_Male <= 0.50\n",
      "|   |   |   |   |   |   |   |   |   |   |   |--- class: 1\n",
      "|   |   |   |   |   |   |   |   |   |   |--- Gender_Male >  0.50\n",
      "|   |   |   |   |   |   |   |   |   |   |   |--- class: 0\n",
      "|   |   |   |   |   |   |   |   |   |--- Leg room service >  2.50\n",
      "|   |   |   |   |   |   |   |   |   |   |--- Departure/Arrival time convenient <= 2.50\n",
      "|   |   |   |   |   |   |   |   |   |   |   |--- class: 0\n",
      "|   |   |   |   |   |   |   |   |   |   |--- Departure/Arrival time convenient >  2.50\n",
      "|   |   |   |   |   |   |   |   |   |   |   |--- truncated branch of depth 7\n",
      "|   |   |   |   |   |   |   |   |--- Arrival Delay in Minutes >  10.50\n",
      "|   |   |   |   |   |   |   |   |   |--- class: 0\n",
      "|   |   |   |   |   |   |--- Inflight service >  4.50\n",
      "|   |   |   |   |   |   |   |--- Inflight entertainment <= 4.50\n",
      "|   |   |   |   |   |   |   |   |--- Departure/Arrival time convenient <= 4.50\n",
      "|   |   |   |   |   |   |   |   |   |--- On-board service <= 3.50\n",
      "|   |   |   |   |   |   |   |   |   |   |--- Online boarding <= 1.50\n",
      "|   |   |   |   |   |   |   |   |   |   |   |--- class: 1\n",
      "|   |   |   |   |   |   |   |   |   |   |--- Online boarding >  1.50\n",
      "|   |   |   |   |   |   |   |   |   |   |   |--- class: 0\n",
      "|   |   |   |   |   |   |   |   |   |--- On-board service >  3.50\n",
      "|   |   |   |   |   |   |   |   |   |   |--- class: 1\n",
      "|   |   |   |   |   |   |   |   |--- Departure/Arrival time convenient >  4.50\n",
      "|   |   |   |   |   |   |   |   |   |--- class: 1\n",
      "|   |   |   |   |   |   |   |--- Inflight entertainment >  4.50\n",
      "|   |   |   |   |   |   |   |   |--- Leg room service <= 2.50\n",
      "|   |   |   |   |   |   |   |   |   |--- class: 1\n",
      "|   |   |   |   |   |   |   |   |--- Leg room service >  2.50\n",
      "|   |   |   |   |   |   |   |   |   |--- Gender_Male <= 0.50\n",
      "|   |   |   |   |   |   |   |   |   |   |--- class: 0\n",
      "|   |   |   |   |   |   |   |   |   |--- Gender_Male >  0.50\n",
      "|   |   |   |   |   |   |   |   |   |   |--- class: 1\n",
      "|   |   |   |   |--- Gate location >  3.50\n",
      "|   |   |   |   |   |--- Type of Travel_Personal Travel <= 0.50\n",
      "|   |   |   |   |   |   |--- Gate location <= 4.50\n",
      "|   |   |   |   |   |   |   |--- Class_Eco <= 0.50\n",
      "|   |   |   |   |   |   |   |   |--- Inflight service <= 4.50\n",
      "|   |   |   |   |   |   |   |   |   |--- Online boarding <= 2.50\n",
      "|   |   |   |   |   |   |   |   |   |   |--- Customer Type_disloyal Customer <= 0.50\n",
      "|   |   |   |   |   |   |   |   |   |   |   |--- truncated branch of depth 9\n",
      "|   |   |   |   |   |   |   |   |   |   |--- Customer Type_disloyal Customer >  0.50\n",
      "|   |   |   |   |   |   |   |   |   |   |   |--- truncated branch of depth 3\n",
      "|   |   |   |   |   |   |   |   |   |--- Online boarding >  2.50\n",
      "|   |   |   |   |   |   |   |   |   |   |--- Seat comfort <= 4.50\n",
      "|   |   |   |   |   |   |   |   |   |   |   |--- truncated branch of depth 16\n",
      "|   |   |   |   |   |   |   |   |   |   |--- Seat comfort >  4.50\n",
      "|   |   |   |   |   |   |   |   |   |   |   |--- truncated branch of depth 4\n",
      "|   |   |   |   |   |   |   |   |--- Inflight service >  4.50\n",
      "|   |   |   |   |   |   |   |   |   |--- class: 1\n",
      "|   |   |   |   |   |   |   |--- Class_Eco >  0.50\n",
      "|   |   |   |   |   |   |   |   |--- Online boarding <= 2.50\n",
      "|   |   |   |   |   |   |   |   |   |--- Flight Distance <= 987.50\n",
      "|   |   |   |   |   |   |   |   |   |   |--- Arrival Delay in Minutes <= 2.50\n",
      "|   |   |   |   |   |   |   |   |   |   |   |--- class: 1\n",
      "|   |   |   |   |   |   |   |   |   |   |--- Arrival Delay in Minutes >  2.50\n",
      "|   |   |   |   |   |   |   |   |   |   |   |--- truncated branch of depth 3\n",
      "|   |   |   |   |   |   |   |   |   |--- Flight Distance >  987.50\n",
      "|   |   |   |   |   |   |   |   |   |   |--- Inflight entertainment <= 3.50\n",
      "|   |   |   |   |   |   |   |   |   |   |   |--- class: 0\n",
      "|   |   |   |   |   |   |   |   |   |   |--- Inflight entertainment >  3.50\n",
      "|   |   |   |   |   |   |   |   |   |   |   |--- truncated branch of depth 3\n",
      "|   |   |   |   |   |   |   |   |--- Online boarding >  2.50\n",
      "|   |   |   |   |   |   |   |   |   |--- Arrival Delay in Minutes <= 11.50\n",
      "|   |   |   |   |   |   |   |   |   |   |--- Departure Delay in Minutes <= 0.50\n",
      "|   |   |   |   |   |   |   |   |   |   |   |--- truncated branch of depth 6\n",
      "|   |   |   |   |   |   |   |   |   |   |--- Departure Delay in Minutes >  0.50\n",
      "|   |   |   |   |   |   |   |   |   |   |   |--- truncated branch of depth 4\n",
      "|   |   |   |   |   |   |   |   |   |--- Arrival Delay in Minutes >  11.50\n",
      "|   |   |   |   |   |   |   |   |   |   |--- Ease of Online booking <= 4.50\n",
      "|   |   |   |   |   |   |   |   |   |   |   |--- truncated branch of depth 2\n",
      "|   |   |   |   |   |   |   |   |   |   |--- Ease of Online booking >  4.50\n",
      "|   |   |   |   |   |   |   |   |   |   |   |--- class: 1\n",
      "|   |   |   |   |   |   |--- Gate location >  4.50\n",
      "|   |   |   |   |   |   |   |--- Class_Eco <= 0.50\n",
      "|   |   |   |   |   |   |   |   |--- Class_Eco Plus <= 0.50\n",
      "|   |   |   |   |   |   |   |   |   |--- Departure/Arrival time convenient <= 0.50\n",
      "|   |   |   |   |   |   |   |   |   |   |--- class: 1\n",
      "|   |   |   |   |   |   |   |   |   |--- Departure/Arrival time convenient >  0.50\n",
      "|   |   |   |   |   |   |   |   |   |   |--- Arrival Delay in Minutes <= 123.00\n",
      "|   |   |   |   |   |   |   |   |   |   |   |--- truncated branch of depth 2\n",
      "|   |   |   |   |   |   |   |   |   |   |--- Arrival Delay in Minutes >  123.00\n",
      "|   |   |   |   |   |   |   |   |   |   |   |--- truncated branch of depth 2\n",
      "|   |   |   |   |   |   |   |   |--- Class_Eco Plus >  0.50\n",
      "|   |   |   |   |   |   |   |   |   |--- Food and drink <= 2.50\n",
      "|   |   |   |   |   |   |   |   |   |   |--- Age <= 69.50\n",
      "|   |   |   |   |   |   |   |   |   |   |   |--- class: 1\n",
      "|   |   |   |   |   |   |   |   |   |   |--- Age >  69.50\n",
      "|   |   |   |   |   |   |   |   |   |   |   |--- class: 0\n",
      "|   |   |   |   |   |   |   |   |   |--- Food and drink >  2.50\n",
      "|   |   |   |   |   |   |   |   |   |   |--- Seat comfort <= 4.50\n",
      "|   |   |   |   |   |   |   |   |   |   |   |--- truncated branch of depth 4\n",
      "|   |   |   |   |   |   |   |   |   |   |--- Seat comfort >  4.50\n",
      "|   |   |   |   |   |   |   |   |   |   |   |--- class: 1\n",
      "|   |   |   |   |   |   |   |--- Class_Eco >  0.50\n",
      "|   |   |   |   |   |   |   |   |--- Online boarding <= 2.50\n",
      "|   |   |   |   |   |   |   |   |   |--- Flight Distance <= 932.50\n",
      "|   |   |   |   |   |   |   |   |   |   |--- Cleanliness <= 2.50\n",
      "|   |   |   |   |   |   |   |   |   |   |   |--- truncated branch of depth 5\n",
      "|   |   |   |   |   |   |   |   |   |   |--- Cleanliness >  2.50\n",
      "|   |   |   |   |   |   |   |   |   |   |   |--- class: 1\n",
      "|   |   |   |   |   |   |   |   |   |--- Flight Distance >  932.50\n",
      "|   |   |   |   |   |   |   |   |   |   |--- Age <= 45.00\n",
      "|   |   |   |   |   |   |   |   |   |   |   |--- class: 1\n",
      "|   |   |   |   |   |   |   |   |   |   |--- Age >  45.00\n",
      "|   |   |   |   |   |   |   |   |   |   |   |--- truncated branch of depth 2\n",
      "|   |   |   |   |   |   |   |   |--- Online boarding >  2.50\n",
      "|   |   |   |   |   |   |   |   |   |--- Cleanliness <= 4.50\n",
      "|   |   |   |   |   |   |   |   |   |   |--- Flight Distance <= 1475.50\n",
      "|   |   |   |   |   |   |   |   |   |   |   |--- truncated branch of depth 8\n",
      "|   |   |   |   |   |   |   |   |   |   |--- Flight Distance >  1475.50\n",
      "|   |   |   |   |   |   |   |   |   |   |   |--- class: 1\n",
      "|   |   |   |   |   |   |   |   |   |--- Cleanliness >  4.50\n",
      "|   |   |   |   |   |   |   |   |   |   |--- class: 1\n",
      "|   |   |   |   |   |--- Type of Travel_Personal Travel >  0.50\n",
      "|   |   |   |   |   |   |--- Arrival Delay in Minutes <= 9.50\n",
      "|   |   |   |   |   |   |   |--- Age <= 68.50\n",
      "|   |   |   |   |   |   |   |   |--- Departure Delay in Minutes <= 7.50\n",
      "|   |   |   |   |   |   |   |   |   |--- Departure Delay in Minutes <= 3.50\n",
      "|   |   |   |   |   |   |   |   |   |   |--- Flight Distance <= 1465.50\n",
      "|   |   |   |   |   |   |   |   |   |   |   |--- truncated branch of depth 15\n",
      "|   |   |   |   |   |   |   |   |   |   |--- Flight Distance >  1465.50\n",
      "|   |   |   |   |   |   |   |   |   |   |   |--- truncated branch of depth 7\n",
      "|   |   |   |   |   |   |   |   |   |--- Departure Delay in Minutes >  3.50\n",
      "|   |   |   |   |   |   |   |   |   |   |--- Ease of Online booking <= 3.50\n",
      "|   |   |   |   |   |   |   |   |   |   |   |--- class: 1\n",
      "|   |   |   |   |   |   |   |   |   |   |--- Ease of Online booking >  3.50\n",
      "|   |   |   |   |   |   |   |   |   |   |   |--- truncated branch of depth 3\n",
      "|   |   |   |   |   |   |   |   |--- Departure Delay in Minutes >  7.50\n",
      "|   |   |   |   |   |   |   |   |   |--- class: 0\n",
      "|   |   |   |   |   |   |   |--- Age >  68.50\n",
      "|   |   |   |   |   |   |   |   |--- Flight Distance <= 1599.00\n",
      "|   |   |   |   |   |   |   |   |   |--- class: 1\n",
      "|   |   |   |   |   |   |   |   |--- Flight Distance >  1599.00\n",
      "|   |   |   |   |   |   |   |   |   |--- class: 0\n",
      "|   |   |   |   |   |   |--- Arrival Delay in Minutes >  9.50\n",
      "|   |   |   |   |   |   |   |--- Arrival Delay in Minutes <= 147.50\n",
      "|   |   |   |   |   |   |   |   |--- class: 0\n",
      "|   |   |   |   |   |   |   |--- Arrival Delay in Minutes >  147.50\n",
      "|   |   |   |   |   |   |   |   |--- Arrival Delay in Minutes <= 152.50\n",
      "|   |   |   |   |   |   |   |   |   |--- class: 1\n",
      "|   |   |   |   |   |   |   |   |--- Arrival Delay in Minutes >  152.50\n",
      "|   |   |   |   |   |   |   |   |   |--- class: 0\n",
      "|   |   |   |--- Inflight wifi service >  4.50\n",
      "|   |   |   |   |--- Age <= 79.50\n",
      "|   |   |   |   |   |--- Ease of Online booking <= 4.50\n",
      "|   |   |   |   |   |   |--- Leg room service <= 4.50\n",
      "|   |   |   |   |   |   |   |--- Inflight entertainment <= 4.50\n",
      "|   |   |   |   |   |   |   |   |--- Arrival Delay in Minutes <= 137.50\n",
      "|   |   |   |   |   |   |   |   |   |--- Inflight service <= 1.50\n",
      "|   |   |   |   |   |   |   |   |   |   |--- Flight Distance <= 1146.00\n",
      "|   |   |   |   |   |   |   |   |   |   |   |--- class: 1\n",
      "|   |   |   |   |   |   |   |   |   |   |--- Flight Distance >  1146.00\n",
      "|   |   |   |   |   |   |   |   |   |   |   |--- class: 0\n",
      "|   |   |   |   |   |   |   |   |   |--- Inflight service >  1.50\n",
      "|   |   |   |   |   |   |   |   |   |   |--- class: 1\n",
      "|   |   |   |   |   |   |   |   |--- Arrival Delay in Minutes >  137.50\n",
      "|   |   |   |   |   |   |   |   |   |--- Age <= 28.50\n",
      "|   |   |   |   |   |   |   |   |   |   |--- class: 0\n",
      "|   |   |   |   |   |   |   |   |   |--- Age >  28.50\n",
      "|   |   |   |   |   |   |   |   |   |   |--- class: 1\n",
      "|   |   |   |   |   |   |   |--- Inflight entertainment >  4.50\n",
      "|   |   |   |   |   |   |   |   |--- Inflight service <= 4.50\n",
      "|   |   |   |   |   |   |   |   |   |--- class: 1\n",
      "|   |   |   |   |   |   |   |   |--- Inflight service >  4.50\n",
      "|   |   |   |   |   |   |   |   |   |--- Departure/Arrival time convenient <= 4.50\n",
      "|   |   |   |   |   |   |   |   |   |   |--- Class_Eco <= 0.50\n",
      "|   |   |   |   |   |   |   |   |   |   |   |--- class: 0\n",
      "|   |   |   |   |   |   |   |   |   |   |--- Class_Eco >  0.50\n",
      "|   |   |   |   |   |   |   |   |   |   |   |--- class: 1\n",
      "|   |   |   |   |   |   |   |   |   |--- Departure/Arrival time convenient >  4.50\n",
      "|   |   |   |   |   |   |   |   |   |   |--- Departure Delay in Minutes <= 25.50\n",
      "|   |   |   |   |   |   |   |   |   |   |   |--- class: 1\n",
      "|   |   |   |   |   |   |   |   |   |   |--- Departure Delay in Minutes >  25.50\n",
      "|   |   |   |   |   |   |   |   |   |   |   |--- class: 0\n",
      "|   |   |   |   |   |   |--- Leg room service >  4.50\n",
      "|   |   |   |   |   |   |   |--- class: 1\n",
      "|   |   |   |   |   |--- Ease of Online booking >  4.50\n",
      "|   |   |   |   |   |   |--- Flight Distance <= 3436.50\n",
      "|   |   |   |   |   |   |   |--- Food and drink <= 1.50\n",
      "|   |   |   |   |   |   |   |   |--- Checkin service <= 1.50\n",
      "|   |   |   |   |   |   |   |   |   |--- Departure Delay in Minutes <= 0.50\n",
      "|   |   |   |   |   |   |   |   |   |   |--- class: 1\n",
      "|   |   |   |   |   |   |   |   |   |--- Departure Delay in Minutes >  0.50\n",
      "|   |   |   |   |   |   |   |   |   |   |--- Inflight service <= 4.50\n",
      "|   |   |   |   |   |   |   |   |   |   |   |--- class: 1\n",
      "|   |   |   |   |   |   |   |   |   |   |--- Inflight service >  4.50\n",
      "|   |   |   |   |   |   |   |   |   |   |   |--- class: 0\n",
      "|   |   |   |   |   |   |   |   |--- Checkin service >  1.50\n",
      "|   |   |   |   |   |   |   |   |   |--- class: 1\n",
      "|   |   |   |   |   |   |   |--- Food and drink >  1.50\n",
      "|   |   |   |   |   |   |   |   |--- class: 1\n",
      "|   |   |   |   |   |   |--- Flight Distance >  3436.50\n",
      "|   |   |   |   |   |   |   |--- Flight Distance <= 3443.00\n",
      "|   |   |   |   |   |   |   |   |--- class: 0\n",
      "|   |   |   |   |   |   |   |--- Flight Distance >  3443.00\n",
      "|   |   |   |   |   |   |   |   |--- Food and drink <= 4.50\n",
      "|   |   |   |   |   |   |   |   |   |--- class: 1\n",
      "|   |   |   |   |   |   |   |   |--- Food and drink >  4.50\n",
      "|   |   |   |   |   |   |   |   |   |--- Seat comfort <= 3.50\n",
      "|   |   |   |   |   |   |   |   |   |   |--- class: 1\n",
      "|   |   |   |   |   |   |   |   |   |--- Seat comfort >  3.50\n",
      "|   |   |   |   |   |   |   |   |   |   |--- Departure Delay in Minutes <= 13.50\n",
      "|   |   |   |   |   |   |   |   |   |   |   |--- class: 0\n",
      "|   |   |   |   |   |   |   |   |   |   |--- Departure Delay in Minutes >  13.50\n",
      "|   |   |   |   |   |   |   |   |   |   |   |--- class: 1\n",
      "|   |   |   |   |--- Age >  79.50\n",
      "|   |   |   |   |   |--- class: 0\n",
      "|--- Online boarding >  3.50\n",
      "|   |--- Type of Travel_Personal Travel <= 0.50\n",
      "|   |   |--- Inflight entertainment <= 3.50\n",
      "|   |   |   |--- Online boarding <= 4.50\n",
      "|   |   |   |   |--- Checkin service <= 2.50\n",
      "|   |   |   |   |   |--- Baggage handling <= 4.50\n",
      "|   |   |   |   |   |   |--- Inflight wifi service <= 0.50\n",
      "|   |   |   |   |   |   |   |--- class: 1\n",
      "|   |   |   |   |   |   |--- Inflight wifi service >  0.50\n",
      "|   |   |   |   |   |   |   |--- On-board service <= 4.50\n",
      "|   |   |   |   |   |   |   |   |--- Inflight wifi service <= 4.50\n",
      "|   |   |   |   |   |   |   |   |   |--- Inflight service <= 4.50\n",
      "|   |   |   |   |   |   |   |   |   |   |--- Seat comfort <= 4.50\n",
      "|   |   |   |   |   |   |   |   |   |   |   |--- truncated branch of depth 16\n",
      "|   |   |   |   |   |   |   |   |   |   |--- Seat comfort >  4.50\n",
      "|   |   |   |   |   |   |   |   |   |   |   |--- truncated branch of depth 2\n",
      "|   |   |   |   |   |   |   |   |   |--- Inflight service >  4.50\n",
      "|   |   |   |   |   |   |   |   |   |   |--- Flight Distance <= 424.50\n",
      "|   |   |   |   |   |   |   |   |   |   |   |--- truncated branch of depth 3\n",
      "|   |   |   |   |   |   |   |   |   |   |--- Flight Distance >  424.50\n",
      "|   |   |   |   |   |   |   |   |   |   |   |--- truncated branch of depth 5\n",
      "|   |   |   |   |   |   |   |   |--- Inflight wifi service >  4.50\n",
      "|   |   |   |   |   |   |   |   |   |--- class: 1\n",
      "|   |   |   |   |   |   |   |--- On-board service >  4.50\n",
      "|   |   |   |   |   |   |   |   |--- Customer Type_disloyal Customer <= 0.50\n",
      "|   |   |   |   |   |   |   |   |   |--- class: 1\n",
      "|   |   |   |   |   |   |   |   |--- Customer Type_disloyal Customer >  0.50\n",
      "|   |   |   |   |   |   |   |   |   |--- Flight Distance <= 879.00\n",
      "|   |   |   |   |   |   |   |   |   |   |--- Inflight service <= 1.50\n",
      "|   |   |   |   |   |   |   |   |   |   |   |--- truncated branch of depth 2\n",
      "|   |   |   |   |   |   |   |   |   |   |--- Inflight service >  1.50\n",
      "|   |   |   |   |   |   |   |   |   |   |   |--- truncated branch of depth 5\n",
      "|   |   |   |   |   |   |   |   |   |--- Flight Distance >  879.00\n",
      "|   |   |   |   |   |   |   |   |   |   |--- Flight Distance <= 2098.00\n",
      "|   |   |   |   |   |   |   |   |   |   |   |--- class: 1\n",
      "|   |   |   |   |   |   |   |   |   |   |--- Flight Distance >  2098.00\n",
      "|   |   |   |   |   |   |   |   |   |   |   |--- class: 0\n",
      "|   |   |   |   |   |--- Baggage handling >  4.50\n",
      "|   |   |   |   |   |   |--- Customer Type_disloyal Customer <= 0.50\n",
      "|   |   |   |   |   |   |   |--- class: 1\n",
      "|   |   |   |   |   |   |--- Customer Type_disloyal Customer >  0.50\n",
      "|   |   |   |   |   |   |   |--- Flight Distance <= 850.50\n",
      "|   |   |   |   |   |   |   |   |--- Seat comfort <= 1.50\n",
      "|   |   |   |   |   |   |   |   |   |--- Gate location <= 2.50\n",
      "|   |   |   |   |   |   |   |   |   |   |--- Inflight wifi service <= 3.50\n",
      "|   |   |   |   |   |   |   |   |   |   |   |--- class: 0\n",
      "|   |   |   |   |   |   |   |   |   |   |--- Inflight wifi service >  3.50\n",
      "|   |   |   |   |   |   |   |   |   |   |   |--- class: 1\n",
      "|   |   |   |   |   |   |   |   |   |--- Gate location >  2.50\n",
      "|   |   |   |   |   |   |   |   |   |   |--- class: 0\n",
      "|   |   |   |   |   |   |   |   |--- Seat comfort >  1.50\n",
      "|   |   |   |   |   |   |   |   |   |--- Inflight entertainment <= 2.50\n",
      "|   |   |   |   |   |   |   |   |   |   |--- class: 0\n",
      "|   |   |   |   |   |   |   |   |   |--- Inflight entertainment >  2.50\n",
      "|   |   |   |   |   |   |   |   |   |   |--- Gate location <= 2.50\n",
      "|   |   |   |   |   |   |   |   |   |   |   |--- class: 1\n",
      "|   |   |   |   |   |   |   |   |   |   |--- Gate location >  2.50\n",
      "|   |   |   |   |   |   |   |   |   |   |   |--- truncated branch of depth 2\n",
      "|   |   |   |   |   |   |   |--- Flight Distance >  850.50\n",
      "|   |   |   |   |   |   |   |   |--- Gate location <= 1.50\n",
      "|   |   |   |   |   |   |   |   |   |--- class: 0\n",
      "|   |   |   |   |   |   |   |   |--- Gate location >  1.50\n",
      "|   |   |   |   |   |   |   |   |   |--- Seat comfort <= 1.50\n",
      "|   |   |   |   |   |   |   |   |   |   |--- Age <= 24.50\n",
      "|   |   |   |   |   |   |   |   |   |   |   |--- class: 1\n",
      "|   |   |   |   |   |   |   |   |   |   |--- Age >  24.50\n",
      "|   |   |   |   |   |   |   |   |   |   |   |--- class: 0\n",
      "|   |   |   |   |   |   |   |   |   |--- Seat comfort >  1.50\n",
      "|   |   |   |   |   |   |   |   |   |   |--- class: 1\n",
      "|   |   |   |   |--- Checkin service >  2.50\n",
      "|   |   |   |   |   |--- Seat comfort <= 4.50\n",
      "|   |   |   |   |   |   |--- Checkin service <= 4.50\n",
      "|   |   |   |   |   |   |   |--- Inflight wifi service <= 3.50\n",
      "|   |   |   |   |   |   |   |   |--- Cleanliness <= 2.50\n",
      "|   |   |   |   |   |   |   |   |   |--- Inflight wifi service <= 0.50\n",
      "|   |   |   |   |   |   |   |   |   |   |--- class: 1\n",
      "|   |   |   |   |   |   |   |   |   |--- Inflight wifi service >  0.50\n",
      "|   |   |   |   |   |   |   |   |   |   |--- Seat comfort <= 2.50\n",
      "|   |   |   |   |   |   |   |   |   |   |   |--- truncated branch of depth 5\n",
      "|   |   |   |   |   |   |   |   |   |   |--- Seat comfort >  2.50\n",
      "|   |   |   |   |   |   |   |   |   |   |   |--- truncated branch of depth 4\n",
      "|   |   |   |   |   |   |   |   |--- Cleanliness >  2.50\n",
      "|   |   |   |   |   |   |   |   |   |--- Gate location <= 3.50\n",
      "|   |   |   |   |   |   |   |   |   |   |--- Seat comfort <= 3.50\n",
      "|   |   |   |   |   |   |   |   |   |   |   |--- truncated branch of depth 13\n",
      "|   |   |   |   |   |   |   |   |   |   |--- Seat comfort >  3.50\n",
      "|   |   |   |   |   |   |   |   |   |   |   |--- truncated branch of depth 20\n",
      "|   |   |   |   |   |   |   |   |   |--- Gate location >  3.50\n",
      "|   |   |   |   |   |   |   |   |   |   |--- Inflight wifi service <= 0.50\n",
      "|   |   |   |   |   |   |   |   |   |   |   |--- class: 1\n",
      "|   |   |   |   |   |   |   |   |   |   |--- Inflight wifi service >  0.50\n",
      "|   |   |   |   |   |   |   |   |   |   |   |--- truncated branch of depth 9\n",
      "|   |   |   |   |   |   |   |--- Inflight wifi service >  3.50\n",
      "|   |   |   |   |   |   |   |   |--- Inflight wifi service <= 4.50\n",
      "|   |   |   |   |   |   |   |   |   |--- Class_Eco <= 0.50\n",
      "|   |   |   |   |   |   |   |   |   |   |--- Age <= 24.50\n",
      "|   |   |   |   |   |   |   |   |   |   |   |--- truncated branch of depth 7\n",
      "|   |   |   |   |   |   |   |   |   |   |--- Age >  24.50\n",
      "|   |   |   |   |   |   |   |   |   |   |   |--- truncated branch of depth 18\n",
      "|   |   |   |   |   |   |   |   |   |--- Class_Eco >  0.50\n",
      "|   |   |   |   |   |   |   |   |   |   |--- Baggage handling <= 4.50\n",
      "|   |   |   |   |   |   |   |   |   |   |   |--- truncated branch of depth 17\n",
      "|   |   |   |   |   |   |   |   |   |   |--- Baggage handling >  4.50\n",
      "|   |   |   |   |   |   |   |   |   |   |   |--- truncated branch of depth 9\n",
      "|   |   |   |   |   |   |   |   |--- Inflight wifi service >  4.50\n",
      "|   |   |   |   |   |   |   |   |   |--- class: 1\n",
      "|   |   |   |   |   |   |--- Checkin service >  4.50\n",
      "|   |   |   |   |   |   |   |--- Customer Type_disloyal Customer <= 0.50\n",
      "|   |   |   |   |   |   |   |   |--- class: 1\n",
      "|   |   |   |   |   |   |   |--- Customer Type_disloyal Customer >  0.50\n",
      "|   |   |   |   |   |   |   |   |--- Age <= 24.50\n",
      "|   |   |   |   |   |   |   |   |   |--- Class_Eco <= 0.50\n",
      "|   |   |   |   |   |   |   |   |   |   |--- class: 1\n",
      "|   |   |   |   |   |   |   |   |   |--- Class_Eco >  0.50\n",
      "|   |   |   |   |   |   |   |   |   |   |--- Inflight wifi service <= 3.50\n",
      "|   |   |   |   |   |   |   |   |   |   |   |--- class: 0\n",
      "|   |   |   |   |   |   |   |   |   |   |--- Inflight wifi service >  3.50\n",
      "|   |   |   |   |   |   |   |   |   |   |   |--- truncated branch of depth 13\n",
      "|   |   |   |   |   |   |   |   |--- Age >  24.50\n",
      "|   |   |   |   |   |   |   |   |   |--- Class_Eco <= 0.50\n",
      "|   |   |   |   |   |   |   |   |   |   |--- Inflight wifi service <= 4.50\n",
      "|   |   |   |   |   |   |   |   |   |   |   |--- truncated branch of depth 15\n",
      "|   |   |   |   |   |   |   |   |   |   |--- Inflight wifi service >  4.50\n",
      "|   |   |   |   |   |   |   |   |   |   |   |--- class: 1\n",
      "|   |   |   |   |   |   |   |   |   |--- Class_Eco >  0.50\n",
      "|   |   |   |   |   |   |   |   |   |   |--- Inflight service <= 4.50\n",
      "|   |   |   |   |   |   |   |   |   |   |   |--- truncated branch of depth 8\n",
      "|   |   |   |   |   |   |   |   |   |   |--- Inflight service >  4.50\n",
      "|   |   |   |   |   |   |   |   |   |   |   |--- truncated branch of depth 3\n",
      "|   |   |   |   |   |--- Seat comfort >  4.50\n",
      "|   |   |   |   |   |   |--- Customer Type_disloyal Customer <= 0.50\n",
      "|   |   |   |   |   |   |   |--- class: 1\n",
      "|   |   |   |   |   |   |--- Customer Type_disloyal Customer >  0.50\n",
      "|   |   |   |   |   |   |   |--- Arrival Delay in Minutes <= 2.50\n",
      "|   |   |   |   |   |   |   |   |--- Class_Eco <= 0.50\n",
      "|   |   |   |   |   |   |   |   |   |--- Flight Distance <= 1162.50\n",
      "|   |   |   |   |   |   |   |   |   |   |--- class: 1\n",
      "|   |   |   |   |   |   |   |   |   |--- Flight Distance >  1162.50\n",
      "|   |   |   |   |   |   |   |   |   |   |--- Gate location <= 2.50\n",
      "|   |   |   |   |   |   |   |   |   |   |   |--- class: 0\n",
      "|   |   |   |   |   |   |   |   |   |   |--- Gate location >  2.50\n",
      "|   |   |   |   |   |   |   |   |   |   |   |--- class: 1\n",
      "|   |   |   |   |   |   |   |   |--- Class_Eco >  0.50\n",
      "|   |   |   |   |   |   |   |   |   |--- Departure/Arrival time convenient <= 0.50\n",
      "|   |   |   |   |   |   |   |   |   |   |--- class: 1\n",
      "|   |   |   |   |   |   |   |   |   |--- Departure/Arrival time convenient >  0.50\n",
      "|   |   |   |   |   |   |   |   |   |   |--- Age <= 23.50\n",
      "|   |   |   |   |   |   |   |   |   |   |   |--- truncated branch of depth 2\n",
      "|   |   |   |   |   |   |   |   |   |   |--- Age >  23.50\n",
      "|   |   |   |   |   |   |   |   |   |   |   |--- class: 0\n",
      "|   |   |   |   |   |   |   |--- Arrival Delay in Minutes >  2.50\n",
      "|   |   |   |   |   |   |   |   |--- Inflight service <= 3.50\n",
      "|   |   |   |   |   |   |   |   |   |--- class: 0\n",
      "|   |   |   |   |   |   |   |   |--- Inflight service >  3.50\n",
      "|   |   |   |   |   |   |   |   |   |--- Gate location <= 3.50\n",
      "|   |   |   |   |   |   |   |   |   |   |--- Cleanliness <= 1.50\n",
      "|   |   |   |   |   |   |   |   |   |   |   |--- class: 0\n",
      "|   |   |   |   |   |   |   |   |   |   |--- Cleanliness >  1.50\n",
      "|   |   |   |   |   |   |   |   |   |   |   |--- truncated branch of depth 3\n",
      "|   |   |   |   |   |   |   |   |   |--- Gate location >  3.50\n",
      "|   |   |   |   |   |   |   |   |   |   |--- class: 0\n",
      "|   |   |   |--- Online boarding >  4.50\n",
      "|   |   |   |   |--- Arrival Delay in Minutes <= 159.50\n",
      "|   |   |   |   |   |--- Class_Eco <= 0.50\n",
      "|   |   |   |   |   |   |--- Age <= 79.00\n",
      "|   |   |   |   |   |   |   |--- Class_Eco Plus <= 0.50\n",
      "|   |   |   |   |   |   |   |   |--- Food and drink <= 0.50\n",
      "|   |   |   |   |   |   |   |   |   |--- Ease of Online booking <= 2.50\n",
      "|   |   |   |   |   |   |   |   |   |   |--- class: 0\n",
      "|   |   |   |   |   |   |   |   |   |--- Ease of Online booking >  2.50\n",
      "|   |   |   |   |   |   |   |   |   |   |--- class: 1\n",
      "|   |   |   |   |   |   |   |   |--- Food and drink >  0.50\n",
      "|   |   |   |   |   |   |   |   |   |--- Customer Type_disloyal Customer <= 0.50\n",
      "|   |   |   |   |   |   |   |   |   |   |--- class: 1\n",
      "|   |   |   |   |   |   |   |   |   |--- Customer Type_disloyal Customer >  0.50\n",
      "|   |   |   |   |   |   |   |   |   |   |--- Inflight wifi service <= 4.50\n",
      "|   |   |   |   |   |   |   |   |   |   |   |--- truncated branch of depth 9\n",
      "|   |   |   |   |   |   |   |   |   |   |--- Inflight wifi service >  4.50\n",
      "|   |   |   |   |   |   |   |   |   |   |   |--- class: 1\n",
      "|   |   |   |   |   |   |   |--- Class_Eco Plus >  0.50\n",
      "|   |   |   |   |   |   |   |   |--- Food and drink <= 1.50\n",
      "|   |   |   |   |   |   |   |   |   |--- On-board service <= 2.50\n",
      "|   |   |   |   |   |   |   |   |   |   |--- class: 0\n",
      "|   |   |   |   |   |   |   |   |   |--- On-board service >  2.50\n",
      "|   |   |   |   |   |   |   |   |   |   |--- Age <= 17.00\n",
      "|   |   |   |   |   |   |   |   |   |   |   |--- class: 0\n",
      "|   |   |   |   |   |   |   |   |   |   |--- Age >  17.00\n",
      "|   |   |   |   |   |   |   |   |   |   |   |--- class: 1\n",
      "|   |   |   |   |   |   |   |   |--- Food and drink >  1.50\n",
      "|   |   |   |   |   |   |   |   |   |--- Arrival Delay in Minutes <= 125.00\n",
      "|   |   |   |   |   |   |   |   |   |   |--- Inflight entertainment <= 1.50\n",
      "|   |   |   |   |   |   |   |   |   |   |   |--- truncated branch of depth 2\n",
      "|   |   |   |   |   |   |   |   |   |   |--- Inflight entertainment >  1.50\n",
      "|   |   |   |   |   |   |   |   |   |   |   |--- class: 1\n",
      "|   |   |   |   |   |   |   |   |   |--- Arrival Delay in Minutes >  125.00\n",
      "|   |   |   |   |   |   |   |   |   |   |--- Customer Type_disloyal Customer <= 0.50\n",
      "|   |   |   |   |   |   |   |   |   |   |   |--- class: 1\n",
      "|   |   |   |   |   |   |   |   |   |   |--- Customer Type_disloyal Customer >  0.50\n",
      "|   |   |   |   |   |   |   |   |   |   |   |--- class: 0\n",
      "|   |   |   |   |   |   |--- Age >  79.00\n",
      "|   |   |   |   |   |   |   |--- Gate location <= 2.50\n",
      "|   |   |   |   |   |   |   |   |--- class: 1\n",
      "|   |   |   |   |   |   |   |--- Gate location >  2.50\n",
      "|   |   |   |   |   |   |   |   |--- class: 0\n",
      "|   |   |   |   |   |--- Class_Eco >  0.50\n",
      "|   |   |   |   |   |   |--- Inflight wifi service <= 4.50\n",
      "|   |   |   |   |   |   |   |--- Customer Type_disloyal Customer <= 0.50\n",
      "|   |   |   |   |   |   |   |   |--- Gate location <= 1.50\n",
      "|   |   |   |   |   |   |   |   |   |--- Arrival Delay in Minutes <= 13.00\n",
      "|   |   |   |   |   |   |   |   |   |   |--- class: 1\n",
      "|   |   |   |   |   |   |   |   |   |--- Arrival Delay in Minutes >  13.00\n",
      "|   |   |   |   |   |   |   |   |   |   |--- class: 0\n",
      "|   |   |   |   |   |   |   |   |--- Gate location >  1.50\n",
      "|   |   |   |   |   |   |   |   |   |--- class: 1\n",
      "|   |   |   |   |   |   |   |--- Customer Type_disloyal Customer >  0.50\n",
      "|   |   |   |   |   |   |   |   |--- Departure/Arrival time convenient <= 3.50\n",
      "|   |   |   |   |   |   |   |   |   |--- Flight Distance <= 260.50\n",
      "|   |   |   |   |   |   |   |   |   |   |--- Checkin service <= 2.00\n",
      "|   |   |   |   |   |   |   |   |   |   |   |--- class: 0\n",
      "|   |   |   |   |   |   |   |   |   |   |--- Checkin service >  2.00\n",
      "|   |   |   |   |   |   |   |   |   |   |   |--- truncated branch of depth 2\n",
      "|   |   |   |   |   |   |   |   |   |--- Flight Distance >  260.50\n",
      "|   |   |   |   |   |   |   |   |   |   |--- class: 0\n",
      "|   |   |   |   |   |   |   |   |--- Departure/Arrival time convenient >  3.50\n",
      "|   |   |   |   |   |   |   |   |   |--- On-board service <= 3.50\n",
      "|   |   |   |   |   |   |   |   |   |   |--- Checkin service <= 3.50\n",
      "|   |   |   |   |   |   |   |   |   |   |   |--- class: 0\n",
      "|   |   |   |   |   |   |   |   |   |   |--- Checkin service >  3.50\n",
      "|   |   |   |   |   |   |   |   |   |   |   |--- truncated branch of depth 4\n",
      "|   |   |   |   |   |   |   |   |   |--- On-board service >  3.50\n",
      "|   |   |   |   |   |   |   |   |   |   |--- Baggage handling <= 3.50\n",
      "|   |   |   |   |   |   |   |   |   |   |   |--- truncated branch of depth 2\n",
      "|   |   |   |   |   |   |   |   |   |   |--- Baggage handling >  3.50\n",
      "|   |   |   |   |   |   |   |   |   |   |   |--- class: 1\n",
      "|   |   |   |   |   |   |--- Inflight wifi service >  4.50\n",
      "|   |   |   |   |   |   |   |--- class: 1\n",
      "|   |   |   |   |--- Arrival Delay in Minutes >  159.50\n",
      "|   |   |   |   |   |--- Customer Type_disloyal Customer <= 0.50\n",
      "|   |   |   |   |   |   |--- Food and drink <= 4.50\n",
      "|   |   |   |   |   |   |   |--- Departure Delay in Minutes <= 235.50\n",
      "|   |   |   |   |   |   |   |   |--- class: 1\n",
      "|   |   |   |   |   |   |   |--- Departure Delay in Minutes >  235.50\n",
      "|   |   |   |   |   |   |   |   |--- class: 0\n",
      "|   |   |   |   |   |   |--- Food and drink >  4.50\n",
      "|   |   |   |   |   |   |   |--- class: 1\n",
      "|   |   |   |   |   |--- Customer Type_disloyal Customer >  0.50\n",
      "|   |   |   |   |   |   |--- Inflight wifi service <= 0.50\n",
      "|   |   |   |   |   |   |   |--- class: 1\n",
      "|   |   |   |   |   |   |--- Inflight wifi service >  0.50\n",
      "|   |   |   |   |   |   |   |--- class: 0\n",
      "|   |   |--- Inflight entertainment >  3.50\n",
      "|   |   |   |--- Customer Type_disloyal Customer <= 0.50\n",
      "|   |   |   |   |--- Checkin service <= 2.50\n",
      "|   |   |   |   |   |--- Online boarding <= 4.50\n",
      "|   |   |   |   |   |   |--- Inflight service <= 4.50\n",
      "|   |   |   |   |   |   |   |--- Inflight service <= 2.50\n",
      "|   |   |   |   |   |   |   |   |--- Seat comfort <= 2.50\n",
      "|   |   |   |   |   |   |   |   |   |--- class: 0\n",
      "|   |   |   |   |   |   |   |   |--- Seat comfort >  2.50\n",
      "|   |   |   |   |   |   |   |   |   |--- Baggage handling <= 3.50\n",
      "|   |   |   |   |   |   |   |   |   |   |--- Inflight service <= 1.50\n",
      "|   |   |   |   |   |   |   |   |   |   |   |--- truncated branch of depth 8\n",
      "|   |   |   |   |   |   |   |   |   |   |--- Inflight service >  1.50\n",
      "|   |   |   |   |   |   |   |   |   |   |   |--- truncated branch of depth 11\n",
      "|   |   |   |   |   |   |   |   |   |--- Baggage handling >  3.50\n",
      "|   |   |   |   |   |   |   |   |   |   |--- class: 1\n",
      "|   |   |   |   |   |   |   |--- Inflight service >  2.50\n",
      "|   |   |   |   |   |   |   |   |--- Inflight wifi service <= 3.50\n",
      "|   |   |   |   |   |   |   |   |   |--- Class_Eco <= 0.50\n",
      "|   |   |   |   |   |   |   |   |   |   |--- Gate location <= 3.50\n",
      "|   |   |   |   |   |   |   |   |   |   |   |--- truncated branch of depth 8\n",
      "|   |   |   |   |   |   |   |   |   |   |--- Gate location >  3.50\n",
      "|   |   |   |   |   |   |   |   |   |   |   |--- truncated branch of depth 2\n",
      "|   |   |   |   |   |   |   |   |   |--- Class_Eco >  0.50\n",
      "|   |   |   |   |   |   |   |   |   |   |--- class: 0\n",
      "|   |   |   |   |   |   |   |   |--- Inflight wifi service >  3.50\n",
      "|   |   |   |   |   |   |   |   |   |--- Baggage handling <= 2.50\n",
      "|   |   |   |   |   |   |   |   |   |   |--- Flight Distance <= 1589.50\n",
      "|   |   |   |   |   |   |   |   |   |   |   |--- truncated branch of depth 9\n",
      "|   |   |   |   |   |   |   |   |   |   |--- Flight Distance >  1589.50\n",
      "|   |   |   |   |   |   |   |   |   |   |   |--- truncated branch of depth 4\n",
      "|   |   |   |   |   |   |   |   |   |--- Baggage handling >  2.50\n",
      "|   |   |   |   |   |   |   |   |   |   |--- Baggage handling <= 4.50\n",
      "|   |   |   |   |   |   |   |   |   |   |   |--- truncated branch of depth 21\n",
      "|   |   |   |   |   |   |   |   |   |   |--- Baggage handling >  4.50\n",
      "|   |   |   |   |   |   |   |   |   |   |   |--- class: 1\n",
      "|   |   |   |   |   |   |--- Inflight service >  4.50\n",
      "|   |   |   |   |   |   |   |--- Leg room service <= 0.50\n",
      "|   |   |   |   |   |   |   |   |--- class: 0\n",
      "|   |   |   |   |   |   |   |--- Leg room service >  0.50\n",
      "|   |   |   |   |   |   |   |   |--- Age <= 76.50\n",
      "|   |   |   |   |   |   |   |   |   |--- Leg room service <= 4.50\n",
      "|   |   |   |   |   |   |   |   |   |   |--- Cleanliness <= 3.50\n",
      "|   |   |   |   |   |   |   |   |   |   |   |--- truncated branch of depth 3\n",
      "|   |   |   |   |   |   |   |   |   |   |--- Cleanliness >  3.50\n",
      "|   |   |   |   |   |   |   |   |   |   |   |--- truncated branch of depth 3\n",
      "|   |   |   |   |   |   |   |   |   |--- Leg room service >  4.50\n",
      "|   |   |   |   |   |   |   |   |   |   |--- class: 1\n",
      "|   |   |   |   |   |   |   |   |--- Age >  76.50\n",
      "|   |   |   |   |   |   |   |   |   |--- class: 0\n",
      "|   |   |   |   |   |--- Online boarding >  4.50\n",
      "|   |   |   |   |   |   |--- class: 1\n",
      "|   |   |   |   |--- Checkin service >  2.50\n",
      "|   |   |   |   |   |--- Baggage handling <= 3.50\n",
      "|   |   |   |   |   |   |--- Online boarding <= 4.50\n",
      "|   |   |   |   |   |   |   |--- Baggage handling <= 2.50\n",
      "|   |   |   |   |   |   |   |   |--- Cleanliness <= 2.50\n",
      "|   |   |   |   |   |   |   |   |   |--- class: 0\n",
      "|   |   |   |   |   |   |   |   |--- Cleanliness >  2.50\n",
      "|   |   |   |   |   |   |   |   |   |--- Checkin service <= 4.50\n",
      "|   |   |   |   |   |   |   |   |   |   |--- Inflight service <= 3.50\n",
      "|   |   |   |   |   |   |   |   |   |   |   |--- truncated branch of depth 11\n",
      "|   |   |   |   |   |   |   |   |   |   |--- Inflight service >  3.50\n",
      "|   |   |   |   |   |   |   |   |   |   |   |--- truncated branch of depth 8\n",
      "|   |   |   |   |   |   |   |   |   |--- Checkin service >  4.50\n",
      "|   |   |   |   |   |   |   |   |   |   |--- class: 1\n",
      "|   |   |   |   |   |   |   |--- Baggage handling >  2.50\n",
      "|   |   |   |   |   |   |   |   |--- Inflight service <= 4.50\n",
      "|   |   |   |   |   |   |   |   |   |--- Inflight service <= 2.50\n",
      "|   |   |   |   |   |   |   |   |   |   |--- Departure Delay in Minutes <= 35.50\n",
      "|   |   |   |   |   |   |   |   |   |   |   |--- truncated branch of depth 7\n",
      "|   |   |   |   |   |   |   |   |   |   |--- Departure Delay in Minutes >  35.50\n",
      "|   |   |   |   |   |   |   |   |   |   |   |--- truncated branch of depth 4\n",
      "|   |   |   |   |   |   |   |   |   |--- Inflight service >  2.50\n",
      "|   |   |   |   |   |   |   |   |   |   |--- Checkin service <= 4.50\n",
      "|   |   |   |   |   |   |   |   |   |   |   |--- truncated branch of depth 15\n",
      "|   |   |   |   |   |   |   |   |   |   |--- Checkin service >  4.50\n",
      "|   |   |   |   |   |   |   |   |   |   |   |--- class: 1\n",
      "|   |   |   |   |   |   |   |   |--- Inflight service >  4.50\n",
      "|   |   |   |   |   |   |   |   |   |--- Cleanliness <= 3.50\n",
      "|   |   |   |   |   |   |   |   |   |   |--- Leg room service <= 4.50\n",
      "|   |   |   |   |   |   |   |   |   |   |   |--- truncated branch of depth 2\n",
      "|   |   |   |   |   |   |   |   |   |   |--- Leg room service >  4.50\n",
      "|   |   |   |   |   |   |   |   |   |   |   |--- class: 1\n",
      "|   |   |   |   |   |   |   |   |   |--- Cleanliness >  3.50\n",
      "|   |   |   |   |   |   |   |   |   |   |--- class: 1\n",
      "|   |   |   |   |   |   |--- Online boarding >  4.50\n",
      "|   |   |   |   |   |   |   |--- Age <= 55.50\n",
      "|   |   |   |   |   |   |   |   |--- class: 1\n",
      "|   |   |   |   |   |   |   |--- Age >  55.50\n",
      "|   |   |   |   |   |   |   |   |--- Flight Distance <= 1476.00\n",
      "|   |   |   |   |   |   |   |   |   |--- class: 1\n",
      "|   |   |   |   |   |   |   |   |--- Flight Distance >  1476.00\n",
      "|   |   |   |   |   |   |   |   |   |--- Flight Distance <= 1690.50\n",
      "|   |   |   |   |   |   |   |   |   |   |--- class: 0\n",
      "|   |   |   |   |   |   |   |   |   |--- Flight Distance >  1690.50\n",
      "|   |   |   |   |   |   |   |   |   |   |--- class: 1\n",
      "|   |   |   |   |   |--- Baggage handling >  3.50\n",
      "|   |   |   |   |   |   |--- Seat comfort <= 3.50\n",
      "|   |   |   |   |   |   |   |--- Seat comfort <= 2.50\n",
      "|   |   |   |   |   |   |   |   |--- Age <= 29.00\n",
      "|   |   |   |   |   |   |   |   |   |--- class: 0\n",
      "|   |   |   |   |   |   |   |   |--- Age >  29.00\n",
      "|   |   |   |   |   |   |   |   |   |--- Cleanliness <= 1.50\n",
      "|   |   |   |   |   |   |   |   |   |   |--- Age <= 40.00\n",
      "|   |   |   |   |   |   |   |   |   |   |   |--- truncated branch of depth 3\n",
      "|   |   |   |   |   |   |   |   |   |   |--- Age >  40.00\n",
      "|   |   |   |   |   |   |   |   |   |   |   |--- class: 1\n",
      "|   |   |   |   |   |   |   |   |   |--- Cleanliness >  1.50\n",
      "|   |   |   |   |   |   |   |   |   |   |--- class: 1\n",
      "|   |   |   |   |   |   |   |--- Seat comfort >  2.50\n",
      "|   |   |   |   |   |   |   |   |--- Online boarding <= 4.50\n",
      "|   |   |   |   |   |   |   |   |   |--- Baggage handling <= 4.50\n",
      "|   |   |   |   |   |   |   |   |   |   |--- Checkin service <= 4.50\n",
      "|   |   |   |   |   |   |   |   |   |   |   |--- truncated branch of depth 14\n",
      "|   |   |   |   |   |   |   |   |   |   |--- Checkin service >  4.50\n",
      "|   |   |   |   |   |   |   |   |   |   |   |--- class: 1\n",
      "|   |   |   |   |   |   |   |   |   |--- Baggage handling >  4.50\n",
      "|   |   |   |   |   |   |   |   |   |   |--- Leg room service <= 1.50\n",
      "|   |   |   |   |   |   |   |   |   |   |   |--- truncated branch of depth 2\n",
      "|   |   |   |   |   |   |   |   |   |   |--- Leg room service >  1.50\n",
      "|   |   |   |   |   |   |   |   |   |   |   |--- truncated branch of depth 4\n",
      "|   |   |   |   |   |   |   |   |--- Online boarding >  4.50\n",
      "|   |   |   |   |   |   |   |   |   |--- class: 1\n",
      "|   |   |   |   |   |   |--- Seat comfort >  3.50\n",
      "|   |   |   |   |   |   |   |--- On-board service <= 2.50\n",
      "|   |   |   |   |   |   |   |   |--- Baggage handling <= 4.50\n",
      "|   |   |   |   |   |   |   |   |   |--- Online boarding <= 4.50\n",
      "|   |   |   |   |   |   |   |   |   |   |--- Inflight service <= 2.50\n",
      "|   |   |   |   |   |   |   |   |   |   |   |--- class: 1\n",
      "|   |   |   |   |   |   |   |   |   |   |--- Inflight service >  2.50\n",
      "|   |   |   |   |   |   |   |   |   |   |   |--- truncated branch of depth 11\n",
      "|   |   |   |   |   |   |   |   |   |--- Online boarding >  4.50\n",
      "|   |   |   |   |   |   |   |   |   |   |--- class: 1\n",
      "|   |   |   |   |   |   |   |   |--- Baggage handling >  4.50\n",
      "|   |   |   |   |   |   |   |   |   |--- class: 1\n",
      "|   |   |   |   |   |   |   |--- On-board service >  2.50\n",
      "|   |   |   |   |   |   |   |   |--- Class_Eco <= 0.50\n",
      "|   |   |   |   |   |   |   |   |   |--- Food and drink <= 1.50\n",
      "|   |   |   |   |   |   |   |   |   |   |--- Baggage handling <= 4.50\n",
      "|   |   |   |   |   |   |   |   |   |   |   |--- truncated branch of depth 6\n",
      "|   |   |   |   |   |   |   |   |   |   |--- Baggage handling >  4.50\n",
      "|   |   |   |   |   |   |   |   |   |   |   |--- class: 1\n",
      "|   |   |   |   |   |   |   |   |   |--- Food and drink >  1.50\n",
      "|   |   |   |   |   |   |   |   |   |   |--- Cleanliness <= 2.50\n",
      "|   |   |   |   |   |   |   |   |   |   |   |--- truncated branch of depth 9\n",
      "|   |   |   |   |   |   |   |   |   |   |--- Cleanliness >  2.50\n",
      "|   |   |   |   |   |   |   |   |   |   |   |--- truncated branch of depth 13\n",
      "|   |   |   |   |   |   |   |   |--- Class_Eco >  0.50\n",
      "|   |   |   |   |   |   |   |   |   |--- Online boarding <= 4.50\n",
      "|   |   |   |   |   |   |   |   |   |   |--- Baggage handling <= 4.50\n",
      "|   |   |   |   |   |   |   |   |   |   |   |--- truncated branch of depth 12\n",
      "|   |   |   |   |   |   |   |   |   |   |--- Baggage handling >  4.50\n",
      "|   |   |   |   |   |   |   |   |   |   |   |--- class: 1\n",
      "|   |   |   |   |   |   |   |   |   |--- Online boarding >  4.50\n",
      "|   |   |   |   |   |   |   |   |   |   |--- class: 1\n",
      "|   |   |   |--- Customer Type_disloyal Customer >  0.50\n",
      "|   |   |   |   |--- Inflight wifi service <= 4.50\n",
      "|   |   |   |   |   |--- On-board service <= 2.50\n",
      "|   |   |   |   |   |   |--- Baggage handling <= 4.50\n",
      "|   |   |   |   |   |   |   |--- Inflight service <= 4.50\n",
      "|   |   |   |   |   |   |   |   |--- Baggage handling <= 1.50\n",
      "|   |   |   |   |   |   |   |   |   |--- Age <= 25.00\n",
      "|   |   |   |   |   |   |   |   |   |   |--- On-board service <= 1.50\n",
      "|   |   |   |   |   |   |   |   |   |   |   |--- class: 1\n",
      "|   |   |   |   |   |   |   |   |   |   |--- On-board service >  1.50\n",
      "|   |   |   |   |   |   |   |   |   |   |   |--- truncated branch of depth 3\n",
      "|   |   |   |   |   |   |   |   |   |--- Age >  25.00\n",
      "|   |   |   |   |   |   |   |   |   |   |--- Seat comfort <= 4.50\n",
      "|   |   |   |   |   |   |   |   |   |   |   |--- truncated branch of depth 2\n",
      "|   |   |   |   |   |   |   |   |   |   |--- Seat comfort >  4.50\n",
      "|   |   |   |   |   |   |   |   |   |   |   |--- class: 0\n",
      "|   |   |   |   |   |   |   |   |--- Baggage handling >  1.50\n",
      "|   |   |   |   |   |   |   |   |   |--- Gate location <= 4.50\n",
      "|   |   |   |   |   |   |   |   |   |   |--- Inflight service <= 2.50\n",
      "|   |   |   |   |   |   |   |   |   |   |   |--- truncated branch of depth 6\n",
      "|   |   |   |   |   |   |   |   |   |   |--- Inflight service >  2.50\n",
      "|   |   |   |   |   |   |   |   |   |   |   |--- truncated branch of depth 8\n",
      "|   |   |   |   |   |   |   |   |   |--- Gate location >  4.50\n",
      "|   |   |   |   |   |   |   |   |   |   |--- Age <= 25.50\n",
      "|   |   |   |   |   |   |   |   |   |   |   |--- truncated branch of depth 2\n",
      "|   |   |   |   |   |   |   |   |   |   |--- Age >  25.50\n",
      "|   |   |   |   |   |   |   |   |   |   |   |--- class: 1\n",
      "|   |   |   |   |   |   |   |--- Inflight service >  4.50\n",
      "|   |   |   |   |   |   |   |   |--- Class_Eco <= 0.50\n",
      "|   |   |   |   |   |   |   |   |   |--- class: 0\n",
      "|   |   |   |   |   |   |   |   |--- Class_Eco >  0.50\n",
      "|   |   |   |   |   |   |   |   |   |--- Arrival Delay in Minutes <= 9.50\n",
      "|   |   |   |   |   |   |   |   |   |   |--- Ease of Online booking <= 4.50\n",
      "|   |   |   |   |   |   |   |   |   |   |   |--- truncated branch of depth 3\n",
      "|   |   |   |   |   |   |   |   |   |   |--- Ease of Online booking >  4.50\n",
      "|   |   |   |   |   |   |   |   |   |   |   |--- class: 0\n",
      "|   |   |   |   |   |   |   |   |   |--- Arrival Delay in Minutes >  9.50\n",
      "|   |   |   |   |   |   |   |   |   |   |--- class: 0\n",
      "|   |   |   |   |   |   |--- Baggage handling >  4.50\n",
      "|   |   |   |   |   |   |   |--- Age <= 21.50\n",
      "|   |   |   |   |   |   |   |   |--- Flight Distance <= 220.50\n",
      "|   |   |   |   |   |   |   |   |   |--- class: 0\n",
      "|   |   |   |   |   |   |   |   |--- Flight Distance >  220.50\n",
      "|   |   |   |   |   |   |   |   |   |--- class: 1\n",
      "|   |   |   |   |   |   |   |--- Age >  21.50\n",
      "|   |   |   |   |   |   |   |   |--- Seat comfort <= 4.50\n",
      "|   |   |   |   |   |   |   |   |   |--- On-board service <= 1.50\n",
      "|   |   |   |   |   |   |   |   |   |   |--- Leg room service <= 4.50\n",
      "|   |   |   |   |   |   |   |   |   |   |   |--- class: 0\n",
      "|   |   |   |   |   |   |   |   |   |   |--- Leg room service >  4.50\n",
      "|   |   |   |   |   |   |   |   |   |   |   |--- class: 1\n",
      "|   |   |   |   |   |   |   |   |   |--- On-board service >  1.50\n",
      "|   |   |   |   |   |   |   |   |   |   |--- Flight Distance <= 498.00\n",
      "|   |   |   |   |   |   |   |   |   |   |   |--- class: 1\n",
      "|   |   |   |   |   |   |   |   |   |   |--- Flight Distance >  498.00\n",
      "|   |   |   |   |   |   |   |   |   |   |   |--- truncated branch of depth 2\n",
      "|   |   |   |   |   |   |   |   |--- Seat comfort >  4.50\n",
      "|   |   |   |   |   |   |   |   |   |--- Leg room service <= 1.50\n",
      "|   |   |   |   |   |   |   |   |   |   |--- Inflight service <= 2.50\n",
      "|   |   |   |   |   |   |   |   |   |   |   |--- class: 0\n",
      "|   |   |   |   |   |   |   |   |   |   |--- Inflight service >  2.50\n",
      "|   |   |   |   |   |   |   |   |   |   |   |--- class: 1\n",
      "|   |   |   |   |   |   |   |   |   |--- Leg room service >  1.50\n",
      "|   |   |   |   |   |   |   |   |   |   |--- class: 0\n",
      "|   |   |   |   |   |--- On-board service >  2.50\n",
      "|   |   |   |   |   |   |--- Inflight wifi service <= 3.50\n",
      "|   |   |   |   |   |   |   |--- Inflight wifi service <= 0.50\n",
      "|   |   |   |   |   |   |   |   |--- class: 1\n",
      "|   |   |   |   |   |   |   |--- Inflight wifi service >  0.50\n",
      "|   |   |   |   |   |   |   |   |--- Gate location <= 2.50\n",
      "|   |   |   |   |   |   |   |   |   |--- Departure/Arrival time convenient <= 3.50\n",
      "|   |   |   |   |   |   |   |   |   |   |--- class: 0\n",
      "|   |   |   |   |   |   |   |   |   |--- Departure/Arrival time convenient >  3.50\n",
      "|   |   |   |   |   |   |   |   |   |   |--- Baggage handling <= 4.50\n",
      "|   |   |   |   |   |   |   |   |   |   |   |--- truncated branch of depth 3\n",
      "|   |   |   |   |   |   |   |   |   |   |--- Baggage handling >  4.50\n",
      "|   |   |   |   |   |   |   |   |   |   |   |--- truncated branch of depth 2\n",
      "|   |   |   |   |   |   |   |   |--- Gate location >  2.50\n",
      "|   |   |   |   |   |   |   |   |   |--- class: 0\n",
      "|   |   |   |   |   |   |--- Inflight wifi service >  3.50\n",
      "|   |   |   |   |   |   |   |--- Baggage handling <= 3.50\n",
      "|   |   |   |   |   |   |   |   |--- Inflight service <= 1.50\n",
      "|   |   |   |   |   |   |   |   |   |--- Age <= 20.50\n",
      "|   |   |   |   |   |   |   |   |   |   |--- class: 0\n",
      "|   |   |   |   |   |   |   |   |   |--- Age >  20.50\n",
      "|   |   |   |   |   |   |   |   |   |   |--- Leg room service <= 2.50\n",
      "|   |   |   |   |   |   |   |   |   |   |   |--- class: 1\n",
      "|   |   |   |   |   |   |   |   |   |   |--- Leg room service >  2.50\n",
      "|   |   |   |   |   |   |   |   |   |   |   |--- truncated branch of depth 4\n",
      "|   |   |   |   |   |   |   |   |--- Inflight service >  1.50\n",
      "|   |   |   |   |   |   |   |   |   |--- Inflight service <= 4.50\n",
      "|   |   |   |   |   |   |   |   |   |   |--- Gate location <= 1.50\n",
      "|   |   |   |   |   |   |   |   |   |   |   |--- truncated branch of depth 3\n",
      "|   |   |   |   |   |   |   |   |   |   |--- Gate location >  1.50\n",
      "|   |   |   |   |   |   |   |   |   |   |   |--- truncated branch of depth 9\n",
      "|   |   |   |   |   |   |   |   |   |--- Inflight service >  4.50\n",
      "|   |   |   |   |   |   |   |   |   |   |--- Arrival Delay in Minutes <= 2.50\n",
      "|   |   |   |   |   |   |   |   |   |   |   |--- truncated branch of depth 4\n",
      "|   |   |   |   |   |   |   |   |   |   |--- Arrival Delay in Minutes >  2.50\n",
      "|   |   |   |   |   |   |   |   |   |   |   |--- truncated branch of depth 4\n",
      "|   |   |   |   |   |   |   |--- Baggage handling >  3.50\n",
      "|   |   |   |   |   |   |   |   |--- Age <= 25.50\n",
      "|   |   |   |   |   |   |   |   |   |--- Class_Eco <= 0.50\n",
      "|   |   |   |   |   |   |   |   |   |   |--- Age <= 24.50\n",
      "|   |   |   |   |   |   |   |   |   |   |   |--- truncated branch of depth 2\n",
      "|   |   |   |   |   |   |   |   |   |   |--- Age >  24.50\n",
      "|   |   |   |   |   |   |   |   |   |   |   |--- truncated branch of depth 8\n",
      "|   |   |   |   |   |   |   |   |   |--- Class_Eco >  0.50\n",
      "|   |   |   |   |   |   |   |   |   |   |--- Age <= 13.50\n",
      "|   |   |   |   |   |   |   |   |   |   |   |--- truncated branch of depth 2\n",
      "|   |   |   |   |   |   |   |   |   |   |--- Age >  13.50\n",
      "|   |   |   |   |   |   |   |   |   |   |   |--- truncated branch of depth 17\n",
      "|   |   |   |   |   |   |   |   |--- Age >  25.50\n",
      "|   |   |   |   |   |   |   |   |   |--- Class_Eco <= 0.50\n",
      "|   |   |   |   |   |   |   |   |   |   |--- Age <= 36.50\n",
      "|   |   |   |   |   |   |   |   |   |   |   |--- truncated branch of depth 14\n",
      "|   |   |   |   |   |   |   |   |   |   |--- Age >  36.50\n",
      "|   |   |   |   |   |   |   |   |   |   |   |--- truncated branch of depth 14\n",
      "|   |   |   |   |   |   |   |   |   |--- Class_Eco >  0.50\n",
      "|   |   |   |   |   |   |   |   |   |   |--- Departure/Arrival time convenient <= 0.50\n",
      "|   |   |   |   |   |   |   |   |   |   |   |--- truncated branch of depth 4\n",
      "|   |   |   |   |   |   |   |   |   |   |--- Departure/Arrival time convenient >  0.50\n",
      "|   |   |   |   |   |   |   |   |   |   |   |--- truncated branch of depth 7\n",
      "|   |   |   |   |--- Inflight wifi service >  4.50\n",
      "|   |   |   |   |   |--- class: 1\n",
      "|   |--- Type of Travel_Personal Travel >  0.50\n",
      "|   |   |--- Inflight wifi service <= 4.50\n",
      "|   |   |   |--- Inflight wifi service <= 3.50\n",
      "|   |   |   |   |--- Inflight wifi service <= 0.50\n",
      "|   |   |   |   |   |--- class: 1\n",
      "|   |   |   |   |--- Inflight wifi service >  0.50\n",
      "|   |   |   |   |   |--- class: 0\n",
      "|   |   |   |--- Inflight wifi service >  3.50\n",
      "|   |   |   |   |--- Arrival Delay in Minutes <= 5.90\n",
      "|   |   |   |   |   |--- Departure Delay in Minutes <= 6.50\n",
      "|   |   |   |   |   |   |--- Gate location <= 4.50\n",
      "|   |   |   |   |   |   |   |--- Arrival Delay in Minutes <= 3.50\n",
      "|   |   |   |   |   |   |   |   |--- Cleanliness <= 3.50\n",
      "|   |   |   |   |   |   |   |   |   |--- Flight Distance <= 638.00\n",
      "|   |   |   |   |   |   |   |   |   |   |--- Flight Distance <= 134.50\n",
      "|   |   |   |   |   |   |   |   |   |   |   |--- truncated branch of depth 5\n",
      "|   |   |   |   |   |   |   |   |   |   |--- Flight Distance >  134.50\n",
      "|   |   |   |   |   |   |   |   |   |   |   |--- truncated branch of depth 17\n",
      "|   |   |   |   |   |   |   |   |   |--- Flight Distance >  638.00\n",
      "|   |   |   |   |   |   |   |   |   |   |--- Food and drink <= 1.50\n",
      "|   |   |   |   |   |   |   |   |   |   |   |--- truncated branch of depth 20\n",
      "|   |   |   |   |   |   |   |   |   |   |--- Food and drink >  1.50\n",
      "|   |   |   |   |   |   |   |   |   |   |   |--- truncated branch of depth 17\n",
      "|   |   |   |   |   |   |   |   |--- Cleanliness >  3.50\n",
      "|   |   |   |   |   |   |   |   |   |--- Flight Distance <= 2690.50\n",
      "|   |   |   |   |   |   |   |   |   |   |--- Flight Distance <= 2174.00\n",
      "|   |   |   |   |   |   |   |   |   |   |   |--- truncated branch of depth 26\n",
      "|   |   |   |   |   |   |   |   |   |   |--- Flight Distance >  2174.00\n",
      "|   |   |   |   |   |   |   |   |   |   |   |--- truncated branch of depth 6\n",
      "|   |   |   |   |   |   |   |   |   |--- Flight Distance >  2690.50\n",
      "|   |   |   |   |   |   |   |   |   |   |--- Age <= 19.50\n",
      "|   |   |   |   |   |   |   |   |   |   |   |--- class: 1\n",
      "|   |   |   |   |   |   |   |   |   |   |--- Age >  19.50\n",
      "|   |   |   |   |   |   |   |   |   |   |   |--- class: 0\n",
      "|   |   |   |   |   |   |   |--- Arrival Delay in Minutes >  3.50\n",
      "|   |   |   |   |   |   |   |   |--- Flight Distance <= 1074.00\n",
      "|   |   |   |   |   |   |   |   |   |--- Flight Distance <= 768.00\n",
      "|   |   |   |   |   |   |   |   |   |   |--- Gate location <= 3.50\n",
      "|   |   |   |   |   |   |   |   |   |   |   |--- truncated branch of depth 4\n",
      "|   |   |   |   |   |   |   |   |   |   |--- Gate location >  3.50\n",
      "|   |   |   |   |   |   |   |   |   |   |   |--- truncated branch of depth 5\n",
      "|   |   |   |   |   |   |   |   |   |--- Flight Distance >  768.00\n",
      "|   |   |   |   |   |   |   |   |   |   |--- Departure Delay in Minutes <= 3.50\n",
      "|   |   |   |   |   |   |   |   |   |   |   |--- class: 1\n",
      "|   |   |   |   |   |   |   |   |   |   |--- Departure Delay in Minutes >  3.50\n",
      "|   |   |   |   |   |   |   |   |   |   |   |--- truncated branch of depth 2\n",
      "|   |   |   |   |   |   |   |   |--- Flight Distance >  1074.00\n",
      "|   |   |   |   |   |   |   |   |   |--- Age <= 12.00\n",
      "|   |   |   |   |   |   |   |   |   |   |--- class: 1\n",
      "|   |   |   |   |   |   |   |   |   |--- Age >  12.00\n",
      "|   |   |   |   |   |   |   |   |   |   |--- Flight Distance <= 2219.50\n",
      "|   |   |   |   |   |   |   |   |   |   |   |--- class: 0\n",
      "|   |   |   |   |   |   |   |   |   |   |--- Flight Distance >  2219.50\n",
      "|   |   |   |   |   |   |   |   |   |   |   |--- class: 1\n",
      "|   |   |   |   |   |   |--- Gate location >  4.50\n",
      "|   |   |   |   |   |   |   |--- Flight Distance <= 586.00\n",
      "|   |   |   |   |   |   |   |   |--- Seat comfort <= 3.50\n",
      "|   |   |   |   |   |   |   |   |   |--- Flight Distance <= 335.50\n",
      "|   |   |   |   |   |   |   |   |   |   |--- Flight Distance <= 310.00\n",
      "|   |   |   |   |   |   |   |   |   |   |   |--- truncated branch of depth 3\n",
      "|   |   |   |   |   |   |   |   |   |   |--- Flight Distance >  310.00\n",
      "|   |   |   |   |   |   |   |   |   |   |   |--- class: 1\n",
      "|   |   |   |   |   |   |   |   |   |--- Flight Distance >  335.50\n",
      "|   |   |   |   |   |   |   |   |   |   |--- Flight Distance <= 544.00\n",
      "|   |   |   |   |   |   |   |   |   |   |   |--- class: 0\n",
      "|   |   |   |   |   |   |   |   |   |   |--- Flight Distance >  544.00\n",
      "|   |   |   |   |   |   |   |   |   |   |   |--- truncated branch of depth 2\n",
      "|   |   |   |   |   |   |   |   |--- Seat comfort >  3.50\n",
      "|   |   |   |   |   |   |   |   |   |--- Baggage handling <= 3.50\n",
      "|   |   |   |   |   |   |   |   |   |   |--- Inflight service <= 1.50\n",
      "|   |   |   |   |   |   |   |   |   |   |   |--- truncated branch of depth 2\n",
      "|   |   |   |   |   |   |   |   |   |   |--- Inflight service >  1.50\n",
      "|   |   |   |   |   |   |   |   |   |   |   |--- class: 0\n",
      "|   |   |   |   |   |   |   |   |   |--- Baggage handling >  3.50\n",
      "|   |   |   |   |   |   |   |   |   |   |--- Age <= 37.50\n",
      "|   |   |   |   |   |   |   |   |   |   |   |--- truncated branch of depth 5\n",
      "|   |   |   |   |   |   |   |   |   |   |--- Age >  37.50\n",
      "|   |   |   |   |   |   |   |   |   |   |   |--- truncated branch of depth 7\n",
      "|   |   |   |   |   |   |   |--- Flight Distance >  586.00\n",
      "|   |   |   |   |   |   |   |   |--- Departure/Arrival time convenient <= 1.50\n",
      "|   |   |   |   |   |   |   |   |   |--- class: 1\n",
      "|   |   |   |   |   |   |   |   |--- Departure/Arrival time convenient >  1.50\n",
      "|   |   |   |   |   |   |   |   |   |--- Flight Distance <= 796.50\n",
      "|   |   |   |   |   |   |   |   |   |   |--- class: 0\n",
      "|   |   |   |   |   |   |   |   |   |--- Flight Distance >  796.50\n",
      "|   |   |   |   |   |   |   |   |   |   |--- Flight Distance <= 826.50\n",
      "|   |   |   |   |   |   |   |   |   |   |   |--- class: 1\n",
      "|   |   |   |   |   |   |   |   |   |   |--- Flight Distance >  826.50\n",
      "|   |   |   |   |   |   |   |   |   |   |   |--- truncated branch of depth 8\n",
      "|   |   |   |   |   |--- Departure Delay in Minutes >  6.50\n",
      "|   |   |   |   |   |   |--- Flight Distance <= 223.00\n",
      "|   |   |   |   |   |   |   |--- On-board service <= 4.50\n",
      "|   |   |   |   |   |   |   |   |--- class: 0\n",
      "|   |   |   |   |   |   |   |--- On-board service >  4.50\n",
      "|   |   |   |   |   |   |   |   |--- Food and drink <= 3.50\n",
      "|   |   |   |   |   |   |   |   |   |--- class: 1\n",
      "|   |   |   |   |   |   |   |   |--- Food and drink >  3.50\n",
      "|   |   |   |   |   |   |   |   |   |--- class: 0\n",
      "|   |   |   |   |   |   |--- Flight Distance >  223.00\n",
      "|   |   |   |   |   |   |   |--- Baggage handling <= 4.50\n",
      "|   |   |   |   |   |   |   |   |--- Baggage handling <= 2.50\n",
      "|   |   |   |   |   |   |   |   |   |--- Age <= 35.50\n",
      "|   |   |   |   |   |   |   |   |   |   |--- On-board service <= 3.50\n",
      "|   |   |   |   |   |   |   |   |   |   |   |--- class: 1\n",
      "|   |   |   |   |   |   |   |   |   |   |--- On-board service >  3.50\n",
      "|   |   |   |   |   |   |   |   |   |   |   |--- truncated branch of depth 2\n",
      "|   |   |   |   |   |   |   |   |   |--- Age >  35.50\n",
      "|   |   |   |   |   |   |   |   |   |   |--- Age <= 46.50\n",
      "|   |   |   |   |   |   |   |   |   |   |   |--- class: 0\n",
      "|   |   |   |   |   |   |   |   |   |   |--- Age >  46.50\n",
      "|   |   |   |   |   |   |   |   |   |   |   |--- truncated branch of depth 6\n",
      "|   |   |   |   |   |   |   |   |--- Baggage handling >  2.50\n",
      "|   |   |   |   |   |   |   |   |   |--- Flight Distance <= 2596.50\n",
      "|   |   |   |   |   |   |   |   |   |   |--- Online boarding <= 4.50\n",
      "|   |   |   |   |   |   |   |   |   |   |   |--- truncated branch of depth 12\n",
      "|   |   |   |   |   |   |   |   |   |   |--- Online boarding >  4.50\n",
      "|   |   |   |   |   |   |   |   |   |   |   |--- truncated branch of depth 5\n",
      "|   |   |   |   |   |   |   |   |   |--- Flight Distance >  2596.50\n",
      "|   |   |   |   |   |   |   |   |   |   |--- class: 1\n",
      "|   |   |   |   |   |   |   |--- Baggage handling >  4.50\n",
      "|   |   |   |   |   |   |   |   |--- On-board service <= 3.50\n",
      "|   |   |   |   |   |   |   |   |   |--- Inflight entertainment <= 3.50\n",
      "|   |   |   |   |   |   |   |   |   |   |--- Flight Distance <= 393.50\n",
      "|   |   |   |   |   |   |   |   |   |   |   |--- truncated branch of depth 2\n",
      "|   |   |   |   |   |   |   |   |   |   |--- Flight Distance >  393.50\n",
      "|   |   |   |   |   |   |   |   |   |   |   |--- class: 0\n",
      "|   |   |   |   |   |   |   |   |   |--- Inflight entertainment >  3.50\n",
      "|   |   |   |   |   |   |   |   |   |   |--- Gate location <= 4.50\n",
      "|   |   |   |   |   |   |   |   |   |   |   |--- truncated branch of depth 3\n",
      "|   |   |   |   |   |   |   |   |   |   |--- Gate location >  4.50\n",
      "|   |   |   |   |   |   |   |   |   |   |   |--- class: 1\n",
      "|   |   |   |   |   |   |   |   |--- On-board service >  3.50\n",
      "|   |   |   |   |   |   |   |   |   |--- Inflight entertainment <= 1.50\n",
      "|   |   |   |   |   |   |   |   |   |   |--- Class_Eco Plus <= 0.50\n",
      "|   |   |   |   |   |   |   |   |   |   |   |--- class: 0\n",
      "|   |   |   |   |   |   |   |   |   |   |--- Class_Eco Plus >  0.50\n",
      "|   |   |   |   |   |   |   |   |   |   |   |--- class: 1\n",
      "|   |   |   |   |   |   |   |   |   |--- Inflight entertainment >  1.50\n",
      "|   |   |   |   |   |   |   |   |   |   |--- Food and drink <= 3.50\n",
      "|   |   |   |   |   |   |   |   |   |   |   |--- truncated branch of depth 3\n",
      "|   |   |   |   |   |   |   |   |   |   |--- Food and drink >  3.50\n",
      "|   |   |   |   |   |   |   |   |   |   |   |--- truncated branch of depth 5\n",
      "|   |   |   |   |--- Arrival Delay in Minutes >  5.90\n",
      "|   |   |   |   |   |--- Arrival Delay in Minutes <= 339.50\n",
      "|   |   |   |   |   |   |--- Flight Distance <= 70.00\n",
      "|   |   |   |   |   |   |   |--- class: 1\n",
      "|   |   |   |   |   |   |--- Flight Distance >  70.00\n",
      "|   |   |   |   |   |   |   |--- Age <= 59.50\n",
      "|   |   |   |   |   |   |   |   |--- Inflight service <= 4.50\n",
      "|   |   |   |   |   |   |   |   |   |--- Leg room service <= 4.50\n",
      "|   |   |   |   |   |   |   |   |   |   |--- Ease of Online booking <= 4.50\n",
      "|   |   |   |   |   |   |   |   |   |   |   |--- truncated branch of depth 18\n",
      "|   |   |   |   |   |   |   |   |   |   |--- Ease of Online booking >  4.50\n",
      "|   |   |   |   |   |   |   |   |   |   |   |--- truncated branch of depth 4\n",
      "|   |   |   |   |   |   |   |   |   |--- Leg room service >  4.50\n",
      "|   |   |   |   |   |   |   |   |   |   |--- Flight Distance <= 1171.50\n",
      "|   |   |   |   |   |   |   |   |   |   |   |--- truncated branch of depth 6\n",
      "|   |   |   |   |   |   |   |   |   |   |--- Flight Distance >  1171.50\n",
      "|   |   |   |   |   |   |   |   |   |   |   |--- truncated branch of depth 5\n",
      "|   |   |   |   |   |   |   |   |--- Inflight service >  4.50\n",
      "|   |   |   |   |   |   |   |   |   |--- Arrival Delay in Minutes <= 30.50\n",
      "|   |   |   |   |   |   |   |   |   |   |--- Age <= 42.50\n",
      "|   |   |   |   |   |   |   |   |   |   |   |--- truncated branch of depth 9\n",
      "|   |   |   |   |   |   |   |   |   |   |--- Age >  42.50\n",
      "|   |   |   |   |   |   |   |   |   |   |   |--- class: 0\n",
      "|   |   |   |   |   |   |   |   |   |--- Arrival Delay in Minutes >  30.50\n",
      "|   |   |   |   |   |   |   |   |   |   |--- Departure/Arrival time convenient <= 1.50\n",
      "|   |   |   |   |   |   |   |   |   |   |   |--- class: 1\n",
      "|   |   |   |   |   |   |   |   |   |   |--- Departure/Arrival time convenient >  1.50\n",
      "|   |   |   |   |   |   |   |   |   |   |   |--- truncated branch of depth 11\n",
      "|   |   |   |   |   |   |   |--- Age >  59.50\n",
      "|   |   |   |   |   |   |   |   |--- Arrival Delay in Minutes <= 157.00\n",
      "|   |   |   |   |   |   |   |   |   |--- Flight Distance <= 124.50\n",
      "|   |   |   |   |   |   |   |   |   |   |--- class: 1\n",
      "|   |   |   |   |   |   |   |   |   |--- Flight Distance >  124.50\n",
      "|   |   |   |   |   |   |   |   |   |   |--- On-board service <= 1.50\n",
      "|   |   |   |   |   |   |   |   |   |   |   |--- truncated branch of depth 3\n",
      "|   |   |   |   |   |   |   |   |   |   |--- On-board service >  1.50\n",
      "|   |   |   |   |   |   |   |   |   |   |   |--- truncated branch of depth 8\n",
      "|   |   |   |   |   |   |   |   |--- Arrival Delay in Minutes >  157.00\n",
      "|   |   |   |   |   |   |   |   |   |--- Gate location <= 3.50\n",
      "|   |   |   |   |   |   |   |   |   |   |--- class: 1\n",
      "|   |   |   |   |   |   |   |   |   |--- Gate location >  3.50\n",
      "|   |   |   |   |   |   |   |   |   |   |--- class: 0\n",
      "|   |   |   |   |   |--- Arrival Delay in Minutes >  339.50\n",
      "|   |   |   |   |   |   |--- Food and drink <= 4.50\n",
      "|   |   |   |   |   |   |   |--- class: 1\n",
      "|   |   |   |   |   |   |--- Food and drink >  4.50\n",
      "|   |   |   |   |   |   |   |--- class: 0\n",
      "|   |   |--- Inflight wifi service >  4.50\n",
      "|   |   |   |--- class: 1\n",
      "\n"
     ]
    }
   ],
   "source": [
    "# Importing Library\n",
    "from sklearn.tree import export_text\n",
    "\n",
    "# Get the feature names from the one-hot encoded columns\n",
    "feature_names = list(X.columns)\n",
    "\n",
    "# Generate and print the textual representation with feature names\n",
    "tree_text = export_text(model, feature_names=feature_names)\n",
    "print(tree_text)"
   ]
  },
  {
   "cell_type": "code",
   "execution_count": null,
   "id": "069a3543",
   "metadata": {},
   "outputs": [],
   "source": [
    "X_train.dtypes"
   ]
  },
  {
   "cell_type": "code",
   "execution_count": null,
   "id": "cb5ca9a0",
   "metadata": {},
   "outputs": [],
   "source": [
    "# Get feature importances\n",
    "feature_importance = model.feature_importances_"
   ]
  },
  {
   "cell_type": "code",
   "execution_count": null,
   "id": "bb398516",
   "metadata": {},
   "outputs": [],
   "source": [
    "# Create a DataFrame to display feature importance\n",
    "feature_importance_df = pd.DataFrame({'Feature': X.columns, 'Importance': feature_importance})"
   ]
  },
  {
   "cell_type": "code",
   "execution_count": null,
   "id": "39198472",
   "metadata": {},
   "outputs": [],
   "source": [
    "# Sort the DataFrame by importance in descending order\n",
    "feature_importance_df = feature_importance_df.sort_values(by='Importance', ascending=False)"
   ]
  },
  {
   "cell_type": "code",
   "execution_count": null,
   "id": "21f96653",
   "metadata": {},
   "outputs": [],
   "source": [
    "# Plot feature importance\n",
    "plt.figure(figsize=(12, 8))\n",
    "sns.barplot(x='Importance', y='Feature', data=feature_importance_df, palette='viridis')\n",
    "plt.title('Feature Importance')\n",
    "plt.show()"
   ]
  },
  {
   "cell_type": "code",
   "execution_count": null,
   "id": "431f4495",
   "metadata": {},
   "outputs": [],
   "source": [
    "# Importing libraries\n",
    "from sklearn.model_selection import cross_val_score, StratifiedKFold"
   ]
  },
  {
   "cell_type": "code",
   "execution_count": null,
   "id": "77424a54",
   "metadata": {},
   "outputs": [],
   "source": [
    "# Use StratifiedKFold to ensure that each fold has the same distribution of classes\n",
    "cv = StratifiedKFold(n_splits=5, shuffle=True, random_state=42)"
   ]
  },
  {
   "cell_type": "code",
   "execution_count": null,
   "id": "a38ad492",
   "metadata": {},
   "outputs": [],
   "source": [
    "# Perform K-fold cross-validation\n",
    "cross_val_results = cross_val_score(model, X, y, cv=cv, scoring='accuracy')"
   ]
  },
  {
   "cell_type": "code",
   "execution_count": null,
   "id": "b18abb2d",
   "metadata": {},
   "outputs": [],
   "source": [
    "# Print the cross-validation results\n",
    "print(\"Cross-Validation Results:\")\n",
    "for i, acc in enumerate(cross_val_results, 1):\n",
    "    print(f\"Fold {i}: {acc:.4f}\")"
   ]
  },
  {
   "cell_type": "code",
   "execution_count": null,
   "id": "098efb48",
   "metadata": {},
   "outputs": [],
   "source": [
    "# Print the mean and standard deviation of the cross-validation results\n",
    "print(f\"\\nMean Accuracy: {cross_val_results.mean():.4f}\")\n",
    "print(f\"Standard Deviation: {cross_val_results.std():.4f}\")"
   ]
  },
  {
   "cell_type": "code",
   "execution_count": null,
   "id": "12a87115",
   "metadata": {},
   "outputs": [],
   "source": []
  }
 ],
 "metadata": {
  "kernelspec": {
   "display_name": "Python 3 (ipykernel)",
   "language": "python",
   "name": "python3"
  },
  "language_info": {
   "codemirror_mode": {
    "name": "ipython",
    "version": 3
   },
   "file_extension": ".py",
   "mimetype": "text/x-python",
   "name": "python",
   "nbconvert_exporter": "python",
   "pygments_lexer": "ipython3",
   "version": "3.7.11"
  }
 },
 "nbformat": 4,
 "nbformat_minor": 5
}
